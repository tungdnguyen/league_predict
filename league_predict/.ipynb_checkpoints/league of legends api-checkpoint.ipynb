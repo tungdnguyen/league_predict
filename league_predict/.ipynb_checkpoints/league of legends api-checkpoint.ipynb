{
 "cells": [
  {
   "cell_type": "code",
   "execution_count": 1,
   "metadata": {
    "ExecuteTime": {
     "end_time": "2019-11-16T01:42:30.801287Z",
     "start_time": "2019-11-16T01:42:30.646711Z"
    }
   },
   "outputs": [],
   "source": [
    "import requests\n",
    "import json"
   ]
  },
  {
   "cell_type": "markdown",
   "metadata": {},
   "source": [
    "## get player list from a certain rank "
   ]
  },
  {
   "cell_type": "code",
   "execution_count": 2,
   "metadata": {
    "ExecuteTime": {
     "end_time": "2019-11-16T01:42:31.039841Z",
     "start_time": "2019-11-16T01:42:31.036720Z"
    }
   },
   "outputs": [],
   "source": [
    "API = \"RGAPI-82ec18c1-a18d-469d-b54e-04b5da131794\"\n",
    "url = \"https://na1.api.riotgames.com/lol/league/v4/entries/RANKED_SOLO_5x5/DIAMOND/I\"\n",
    "params = {\"api_key\":API}"
   ]
  },
  {
   "cell_type": "code",
   "execution_count": 3,
   "metadata": {
    "ExecuteTime": {
     "end_time": "2019-11-16T01:42:31.730224Z",
     "start_time": "2019-11-16T01:42:31.230254Z"
    }
   },
   "outputs": [],
   "source": [
    "d = requests.get(url=url,params=params)"
   ]
  },
  {
   "cell_type": "code",
   "execution_count": 4,
   "metadata": {
    "ExecuteTime": {
     "end_time": "2019-11-16T01:42:31.737172Z",
     "start_time": "2019-11-16T01:42:31.733107Z"
    }
   },
   "outputs": [],
   "source": [
    "j = json.loads(d.text)\n"
   ]
  },
  {
   "cell_type": "code",
   "execution_count": 5,
   "metadata": {
    "ExecuteTime": {
     "end_time": "2019-11-16T01:42:31.751329Z",
     "start_time": "2019-11-16T01:42:31.739452Z"
    }
   },
   "outputs": [
    {
     "data": {
      "text/plain": [
       "{'freshBlood': False,\n",
       " 'hotStreak': False,\n",
       " 'inactive': False,\n",
       " 'leagueId': '52fff6f0-2006-11e9-a5ff-c81f66dbb56c',\n",
       " 'leaguePoints': 100,\n",
       " 'losses': 126,\n",
       " 'miniSeries': {'losses': 1, 'progress': 'LNNNN', 'target': 3, 'wins': 0},\n",
       " 'queueType': 'RANKED_SOLO_5x5',\n",
       " 'rank': 'I',\n",
       " 'summonerId': 'EuXHkripW2Qav3H2l1uGWapRCMgwQh4fHIVFybcTCuTk8XX_',\n",
       " 'summonerName': 'im  xiâotängyúan',\n",
       " 'tier': 'DIAMOND',\n",
       " 'veteran': False,\n",
       " 'wins': 152}"
      ]
     },
     "execution_count": 5,
     "metadata": {},
     "output_type": "execute_result"
    }
   ],
   "source": [
    "j[0]"
   ]
  },
  {
   "cell_type": "markdown",
   "metadata": {},
   "source": [
    "## get a player ids"
   ]
  },
  {
   "cell_type": "code",
   "execution_count": 6,
   "metadata": {
    "ExecuteTime": {
     "end_time": "2019-11-16T01:42:32.685088Z",
     "start_time": "2019-11-16T01:42:32.381351Z"
    }
   },
   "outputs": [],
   "source": [
    "summonerId = \"EuXHkripW2Qav3H2l1uGWapRCMgwQh4fHIVFybcTCuTk8XX_\"\n",
    "url = \"https://na1.api.riotgames.com/lol/summoner/v4/summoners/\"+summonerId\n",
    "params = {\"api_key\":API}\n",
    "d = requests.get(url=url,params=params)\n",
    "j = json.loads(d.text)"
   ]
  },
  {
   "cell_type": "code",
   "execution_count": 7,
   "metadata": {
    "ExecuteTime": {
     "end_time": "2019-11-16T01:42:33.155002Z",
     "start_time": "2019-11-16T01:42:33.149936Z"
    }
   },
   "outputs": [
    {
     "data": {
      "text/plain": [
       "'PSx6zg8dI5EUGI2ubmOvOblJ6OtqurjNmkd0_k21JvFv1mMxBEspIsT5'"
      ]
     },
     "execution_count": 7,
     "metadata": {},
     "output_type": "execute_result"
    }
   ],
   "source": [
    "#done getting user object\n",
    "account = j['accountId'] #user account id\n",
    "account"
   ]
  },
  {
   "cell_type": "markdown",
   "metadata": {},
   "source": [
    "## match hisory for 1 player"
   ]
  },
  {
   "cell_type": "code",
   "execution_count": 8,
   "metadata": {
    "ExecuteTime": {
     "end_time": "2019-11-16T01:42:34.342201Z",
     "start_time": "2019-11-16T01:42:33.973122Z"
    }
   },
   "outputs": [],
   "source": [
    "url = \"https://na1.api.riotgames.com/lol/match/v4/matchlists/by-account/\" + account\n",
    "d = requests.get(url=url,params=params)\n",
    "j = json.loads(d.text)"
   ]
  },
  {
   "cell_type": "code",
   "execution_count": 9,
   "metadata": {
    "ExecuteTime": {
     "end_time": "2019-11-16T01:42:34.544475Z",
     "start_time": "2019-11-16T01:42:34.540806Z"
    }
   },
   "outputs": [],
   "source": [
    "gameId = str(j['matches'][0]['gameId'])"
   ]
  },
  {
   "cell_type": "markdown",
   "metadata": {},
   "source": [
    "## history of 1 match based on match_id"
   ]
  },
  {
   "cell_type": "code",
   "execution_count": 10,
   "metadata": {
    "ExecuteTime": {
     "end_time": "2019-11-16T01:42:36.290013Z",
     "start_time": "2019-11-16T01:42:35.949149Z"
    }
   },
   "outputs": [],
   "source": [
    "url = \"https://na1.api.riotgames.com/lol/match/v4/matches/\" + gameId\n",
    "d = requests.get(url=url,params=params)\n",
    "j = json.loads(d.text)"
   ]
  },
  {
   "cell_type": "code",
   "execution_count": 13,
   "metadata": {
    "ExecuteTime": {
     "end_time": "2019-11-16T01:42:54.746977Z",
     "start_time": "2019-11-16T01:42:54.742282Z"
    }
   },
   "outputs": [
    {
     "data": {
      "text/plain": [
       "{'participantId': 1,\n",
       " 'player': {'accountId': 'KS9Oqk2vvNh3zphI7fY-itaLLzp9JhTB7HnaczYzSrx1Gw',\n",
       "  'currentAccountId': 'KS9Oqk2vvNh3zphI7fY-itaLLzp9JhTB7HnaczYzSrx1Gw',\n",
       "  'currentPlatformId': 'NA1',\n",
       "  'matchHistoryUri': '/v1/stats/player_history/NA1/50135171',\n",
       "  'platformId': 'NA1',\n",
       "  'profileIcon': 4279,\n",
       "  'summonerId': 'CInmKwfaqk85iX9GOtOmHtpj9EUVlZkGhvRHRp7cB7Uu07E',\n",
       "  'summonerName': 'Prymari'}}"
      ]
     },
     "execution_count": 13,
     "metadata": {},
     "output_type": "execute_result"
    }
   ],
   "source": [
    "j['participantIdentities'][0]"
   ]
  },
  {
   "cell_type": "markdown",
   "metadata": {},
   "source": [
    "## get champion mastery for 1 player"
   ]
  },
  {
   "cell_type": "code",
   "execution_count": 38,
   "metadata": {
    "ExecuteTime": {
     "end_time": "2019-11-15T21:22:10.796279Z",
     "start_time": "2019-11-15T21:22:10.486996Z"
    }
   },
   "outputs": [],
   "source": [
    "url = \"https://na1.api.riotgames.com/lol/champion-mastery/v4/champion-masteries/by-summoner/\" + summonerId\n",
    "d = requests.get(url=url,params=params)\n",
    "j = json.loads(d.text)"
   ]
  },
  {
   "cell_type": "code",
   "execution_count": 50,
   "metadata": {},
   "outputs": [
    {
     "data": {
      "text/plain": [
       "13"
      ]
     },
     "execution_count": 50,
     "metadata": {},
     "output_type": "execute_result"
    }
   ],
   "source": [
    "len(j)"
   ]
  },
  {
   "cell_type": "code",
   "execution_count": null,
   "metadata": {},
   "outputs": [],
   "source": []
  }
 ],
 "metadata": {
  "kernelspec": {
   "display_name": "Python 3",
   "language": "python",
   "name": "python3"
  },
  "language_info": {
   "codemirror_mode": {
    "name": "ipython",
    "version": 3
   },
   "file_extension": ".py",
   "mimetype": "text/x-python",
   "name": "python",
   "nbconvert_exporter": "python",
   "pygments_lexer": "ipython3",
   "version": "3.6.4"
  },
  "toc": {
   "base_numbering": 1,
   "nav_menu": {},
   "number_sections": true,
   "sideBar": true,
   "skip_h1_title": false,
   "title_cell": "Table of Contents",
   "title_sidebar": "Contents",
   "toc_cell": false,
   "toc_position": {},
   "toc_section_display": true,
   "toc_window_display": false
  }
 },
 "nbformat": 4,
 "nbformat_minor": 2
}
