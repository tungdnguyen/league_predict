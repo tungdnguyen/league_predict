{
 "cells": [
  {
   "cell_type": "code",
   "execution_count": 1,
   "metadata": {
    "ExecuteTime": {
     "end_time": "2019-11-16T03:19:48.507370Z",
     "start_time": "2019-11-16T03:19:48.312824Z"
    }
   },
   "outputs": [
    {
     "name": "stdout",
     "output_type": "stream",
     "text": [
      "/usr/local/bin/python3\n"
     ]
    }
   ],
   "source": [
    "import sys\n",
    "print(sys.executable)\n",
    "from azure.cosmos import CosmosClient, PartitionKey, exceptions\n",
    "from tqdm import tqdm\n",
    "import json "
   ]
  },
  {
   "cell_type": "code",
   "execution_count": 2,
   "metadata": {
    "ExecuteTime": {
     "end_time": "2019-11-16T03:19:55.737448Z",
     "start_time": "2019-11-16T03:19:49.469752Z"
    }
   },
   "outputs": [],
   "source": [
    "ACCOUNT_URI = \"https://lolpredict.documents.azure.com:443/\"\n",
    "ACCOUNT_KEY = \"UcLcT6bvFUsk677XfibNhJIIqiAstRkaWWrqTJaQOCmVqx0IN0J1ufYdpbsarowutD6nMSKaaLS1NqcD0QDIdQ==\"\n",
    "client = CosmosClient(ACCOUNT_URI, credential=ACCOUNT_KEY)\n"
   ]
  },
  {
   "cell_type": "markdown",
   "metadata": {},
   "source": [
    "## Create League Database"
   ]
  },
  {
   "cell_type": "code",
   "execution_count": 21,
   "metadata": {
    "ExecuteTime": {
     "end_time": "2019-11-16T03:35:49.404293Z",
     "start_time": "2019-11-16T03:35:49.375615Z"
    }
   },
   "outputs": [],
   "source": [
    "def create_database(database_name):\n",
    "    try:\n",
    "        database = client.create_database(database_name)\n",
    "    except exceptions.CosmosResourceExistsError:\n",
    "        database = client.get_database_client(database_name)\n",
    "    return database\n",
    "\n",
    "def create_container(database, container_name):\n",
    "    try:\n",
    "        container = database.create_container(id=container_name,    partition_key=PartitionKey(path=\"/league\"))\n",
    "    except exceptions.CosmosResourceExistsError:\n",
    "        container = database.get_container_client(container_name)\n",
    "    except exceptions.CosmosHttpResponseError:\n",
    "        raise\n",
    "    return container\n",
    "\n",
    "def get_database(database_name):\n",
    "    return client.get_database_client(database_name)\n",
    "\n",
    "def get_container(database, container_name):\n",
    "    return database.get_container_client(container_name)\n",
    "\n",
    "def insert_item(container,data):\n",
    "    container.upsert_item(data)"
   ]
  },
  {
   "cell_type": "code",
   "execution_count": 4,
   "metadata": {
    "ExecuteTime": {
     "end_time": "2019-11-16T03:20:02.160880Z",
     "start_time": "2019-11-16T03:20:02.035987Z"
    }
   },
   "outputs": [],
   "source": [
    "database = create_database(\"league_all_data\")\n",
    "champion_container = create_container(database, \"champions\")\n"
   ]
  },
  {
   "cell_type": "markdown",
   "metadata": {
    "heading_collapsed": true
   },
   "source": [
    "## send champion data to azure "
   ]
  },
  {
   "cell_type": "code",
   "execution_count": null,
   "metadata": {
    "ExecuteTime": {
     "end_time": "2019-11-16T01:25:10.862211Z",
     "start_time": "2019-11-16T01:25:10.854229Z"
    },
    "hidden": true
   },
   "outputs": [],
   "source": [
    "count = 0\n",
    "with open(\"champion.json\",\"rb\") as champ:\n",
    "    champ_json = json.load(champ)\n",
    "    #load through each champ"
   ]
  },
  {
   "cell_type": "code",
   "execution_count": null,
   "metadata": {
    "ExecuteTime": {
     "end_time": "2019-11-16T01:25:18.935837Z",
     "start_time": "2019-11-16T01:25:15.135002Z"
    },
    "hidden": true
   },
   "outputs": [],
   "source": [
    "for c in tqdm(champ_json['data'].keys()):\n",
    "    c_data_raw = champ_json['data'][c]\n",
    "    champ_dict = {}\n",
    "    champ_dict['id'] = c_data_raw['key']\n",
    "    champ_dict['name'] = c\n",
    "    champ_dict['stats'] = c_data_raw['stats']\n",
    "    champ_dict['tags'] = c_data_raw['tags']\n",
    "    insert_item(champion_container,champ_dict)\n",
    "print(\"Done insert data to cosmosDB\") "
   ]
  },
  {
   "cell_type": "markdown",
   "metadata": {},
   "source": [
    "## Querying champion data from CosmosDB"
   ]
  },
  {
   "cell_type": "markdown",
   "metadata": {},
   "source": []
  },
  {
   "cell_type": "code",
   "execution_count": 5,
   "metadata": {
    "ExecuteTime": {
     "end_time": "2019-11-16T03:20:09.013890Z",
     "start_time": "2019-11-16T03:20:08.987034Z"
    }
   },
   "outputs": [
    {
     "name": "stdout",
     "output_type": "stream",
     "text": [
      "{\n",
      " \"id\": \"23\",\n",
      " \"name\": \"Tryndamere\",\n",
      " \"stats\": {\n",
      "  \"hp\": 625.64,\n",
      "  \"hpperlevel\": 98,\n",
      "  \"mp\": 100,\n",
      "  \"mpperlevel\": 0,\n",
      "  \"movespeed\": 345,\n",
      "  \"armor\": 33,\n",
      "  \"armorperlevel\": 3.1,\n",
      "  \"spellblock\": 32.1,\n",
      "  \"spellblockperlevel\": 1.25,\n",
      "  \"attackrange\": 125,\n",
      "  \"hpregen\": 8.5,\n",
      "  \"hpregenperlevel\": 0.9,\n",
      "  \"mpregen\": 0,\n",
      "  \"mpregenperlevel\": 0,\n",
      "  \"crit\": 0,\n",
      "  \"critperlevel\": 0,\n",
      "  \"attackdamage\": 69,\n",
      "  \"attackdamageperlevel\": 3.7,\n",
      "  \"attackspeedperlevel\": 2.9,\n",
      "  \"attackspeed\": 0.67\n",
      " },\n",
      " \"tags\": [\n",
      "  \"Fighter\",\n",
      "  \"Assassin\"\n",
      " ],\n",
      " \"_rid\": \"nXoLAJNWKLB5AAAAAAAAAA==\",\n",
      " \"_self\": \"dbs/nXoLAA==/colls/nXoLAJNWKLA=/docs/nXoLAJNWKLB5AAAAAAAAAA==/\",\n",
      " \"_etag\": \"\\\"0000d104-0000-0400-0000-5dcf4ffe0000\\\"\",\n",
      " \"_attachments\": \"attachments/\",\n",
      " \"_ts\": 1573867518\n",
      "}\n",
      "----------\n"
     ]
    }
   ],
   "source": [
    "query = \"SELECT * FROM mycontainer r WHERE r.id='23'\"\n",
    "for item in champion_container.query_items(query=query, enable_cross_partition_query=True):\n",
    "    print(json.dumps(item, indent=True))\n",
    "    print(\"-\"*10)"
   ]
  },
  {
   "cell_type": "markdown",
   "metadata": {},
   "source": [
    "## Creating player and match container "
   ]
  },
  {
   "cell_type": "code",
   "execution_count": 6,
   "metadata": {
    "ExecuteTime": {
     "end_time": "2019-11-16T03:20:12.507086Z",
     "start_time": "2019-11-16T03:20:12.492526Z"
    }
   },
   "outputs": [
    {
     "data": {
      "text/plain": [
       "<module 'league_api' from '/Users/wazzie27/Documents/LOL_CSP/LOL/league_predict/league_api.py'>"
      ]
     },
     "execution_count": 6,
     "metadata": {},
     "output_type": "execute_result"
    }
   ],
   "source": [
    "import league_api\n",
    "import importlib\n",
    "importlib.reload(league_api)"
   ]
  },
  {
   "cell_type": "code",
   "execution_count": 7,
   "metadata": {
    "ExecuteTime": {
     "end_time": "2019-11-16T03:20:13.499805Z",
     "start_time": "2019-11-16T03:20:13.458835Z"
    }
   },
   "outputs": [],
   "source": [
    "# create container \n",
    "player_container = create_container(database,\"players\")\n",
    "match_container = create_container(database,\"matches\")"
   ]
  },
  {
   "cell_type": "code",
   "execution_count": 8,
   "metadata": {
    "ExecuteTime": {
     "end_time": "2019-11-16T03:20:18.133597Z",
     "start_time": "2019-11-16T03:20:16.411993Z"
    }
   },
   "outputs": [
    {
     "name": "stdout",
     "output_type": "stream",
     "text": [
      "Got 205 players\n"
     ]
    }
   ],
   "source": [
    "#got list of players of diamond I\n",
    "league = league_api.LeagueAPI()\n",
    "league.set_key(\"RGAPI-82ec18c1-a18d-469d-b54e-04b5da131794\")\n",
    "player_list = league.get_player_list(\"DIAMOND\",\"I\")"
   ]
  },
  {
   "cell_type": "code",
   "execution_count": 19,
   "metadata": {
    "ExecuteTime": {
     "end_time": "2019-11-16T03:29:14.571265Z",
     "start_time": "2019-11-16T03:29:14.535706Z"
    }
   },
   "outputs": [],
   "source": [
    "def get_games_1_player(summonerId,game_num):\n",
    "    player_dict = {}\n",
    "    player_dict['id'] = str(summonerId)\n",
    "    account_id = league.get_account_id(summonerId)\n",
    "    player_mastery = league.get_champion_mastery(summonerId)\n",
    "    player_dict['mastery'] = player_mastery\n",
    "    match_hist = league.get_player_match_hist(account_id)\n",
    "    all_other_players = []\n",
    "    final_matches = []\n",
    "    for match in match_hist[:game_num]:\n",
    "        game_stats = league.get_game_stats(match)\n",
    "        try:\n",
    "            match_dict = {}\n",
    "            match_dict[\"id\"] = str(game_stats['gameId'])\n",
    "            match_dict[\"stats\"] = game_stats\n",
    "            players_in_game = league.get_players_id_1_match(game_stats,exclude=summonerId) \n",
    "            #exclude the player that call the query\n",
    "            all_other_players += players_in_game\n",
    "            insert_item(match_container,match_dict)\n",
    "            final_matches.append(match_dict['id'])\n",
    "        except:\n",
    "            print(\"cant get match hist for this\")\n",
    "            pass\n",
    "    all_other_players = list(set(all_other_players)) #list of players play with the current summonerId\n",
    "    player_dict['matches'] = final_matches\n",
    "    insert_item(player_container,player_dict) #send to cosmos\n",
    "    return all_other_players,len(final_matches)"
   ]
  },
  {
   "cell_type": "markdown",
   "metadata": {},
   "source": [
    "## main program to send to 2 containers"
   ]
  },
  {
   "cell_type": "code",
   "execution_count": 22,
   "metadata": {
    "ExecuteTime": {
     "end_time": "2019-11-16T03:36:00.671805Z",
     "start_time": "2019-11-16T03:35:51.834759Z"
    }
   },
   "outputs": [
    {
     "name": "stderr",
     "output_type": "stream",
     "text": [
      "\n",
      "\n",
      "\n",
      "\n",
      "  0%|          | 0/205 [00:00<?, ?it/s]\u001b[A\u001b[A\u001b[A\u001b[A"
     ]
    },
    {
     "name": "stdout",
     "output_type": "stream",
     "text": [
      "seed user EuXHkripW2Qav3H2l1uGWapRCMgwQh4fHIVFybcTCuTk8XX_\n",
      "3207690957\n",
      "3207597356\n"
     ]
    },
    {
     "ename": "KeyboardInterrupt",
     "evalue": "",
     "output_type": "error",
     "traceback": [
      "\u001b[0;31m---------------------------------------------------------------------------\u001b[0m",
      "\u001b[0;31mKeyboardInterrupt\u001b[0m                         Traceback (most recent call last)",
      "\u001b[0;32m<ipython-input-22-05453d673f43>\u001b[0m in \u001b[0;36m<module>\u001b[0;34m()\u001b[0m\n\u001b[1;32m      8\u001b[0m \u001b[0;32mfor\u001b[0m \u001b[0mplayer\u001b[0m \u001b[0;32min\u001b[0m \u001b[0mtqdm\u001b[0m\u001b[0;34m(\u001b[0m\u001b[0mplayer_list\u001b[0m\u001b[0;34m)\u001b[0m\u001b[0;34m:\u001b[0m\u001b[0;34m\u001b[0m\u001b[0m\n\u001b[1;32m      9\u001b[0m     \u001b[0mprint\u001b[0m\u001b[0;34m(\u001b[0m\u001b[0;34m\"seed user {}\"\u001b[0m\u001b[0;34m.\u001b[0m\u001b[0mformat\u001b[0m\u001b[0;34m(\u001b[0m\u001b[0mplayer\u001b[0m\u001b[0;34m)\u001b[0m\u001b[0;34m)\u001b[0m\u001b[0;34m\u001b[0m\u001b[0m\n\u001b[0;32m---> 10\u001b[0;31m     \u001b[0mall_other_players\u001b[0m\u001b[0;34m,\u001b[0m\u001b[0mlen_matches\u001b[0m \u001b[0;34m=\u001b[0m \u001b[0mget_games_1_player\u001b[0m\u001b[0;34m(\u001b[0m\u001b[0mplayer\u001b[0m\u001b[0;34m,\u001b[0m\u001b[0;36m10\u001b[0m\u001b[0;34m)\u001b[0m\u001b[0;34m\u001b[0m\u001b[0m\n\u001b[0m\u001b[1;32m     11\u001b[0m     \u001b[0mplaceholder\u001b[0m \u001b[0;34m=\u001b[0m \u001b[0;32mNone\u001b[0m\u001b[0;34m\u001b[0m\u001b[0m\n\u001b[1;32m     12\u001b[0m     \u001b[0mprint\u001b[0m\u001b[0;34m(\u001b[0m\u001b[0;34m\"query {} other players\"\u001b[0m\u001b[0;34m.\u001b[0m\u001b[0mformat\u001b[0m\u001b[0;34m(\u001b[0m\u001b[0mlen\u001b[0m\u001b[0;34m(\u001b[0m\u001b[0mall_other_players\u001b[0m\u001b[0;34m)\u001b[0m\u001b[0;34m)\u001b[0m\u001b[0;34m)\u001b[0m\u001b[0;34m\u001b[0m\u001b[0m\n",
      "\u001b[0;32m<ipython-input-19-37d969d41a35>\u001b[0m in \u001b[0;36mget_games_1_player\u001b[0;34m(summonerId, game_num)\u001b[0m\n\u001b[1;32m      9\u001b[0m     \u001b[0mfinal_matches\u001b[0m \u001b[0;34m=\u001b[0m \u001b[0;34m[\u001b[0m\u001b[0;34m]\u001b[0m\u001b[0;34m\u001b[0m\u001b[0m\n\u001b[1;32m     10\u001b[0m     \u001b[0;32mfor\u001b[0m \u001b[0mmatch\u001b[0m \u001b[0;32min\u001b[0m \u001b[0mmatch_hist\u001b[0m\u001b[0;34m[\u001b[0m\u001b[0;34m:\u001b[0m\u001b[0mgame_num\u001b[0m\u001b[0;34m]\u001b[0m\u001b[0;34m:\u001b[0m\u001b[0;34m\u001b[0m\u001b[0m\n\u001b[0;32m---> 11\u001b[0;31m         \u001b[0mgame_stats\u001b[0m \u001b[0;34m=\u001b[0m \u001b[0mleague\u001b[0m\u001b[0;34m.\u001b[0m\u001b[0mget_game_stats\u001b[0m\u001b[0;34m(\u001b[0m\u001b[0mmatch\u001b[0m\u001b[0;34m)\u001b[0m\u001b[0;34m\u001b[0m\u001b[0m\n\u001b[0m\u001b[1;32m     12\u001b[0m         \u001b[0;32mtry\u001b[0m\u001b[0;34m:\u001b[0m\u001b[0;34m\u001b[0m\u001b[0m\n\u001b[1;32m     13\u001b[0m             \u001b[0mmatch_dict\u001b[0m \u001b[0;34m=\u001b[0m \u001b[0;34m{\u001b[0m\u001b[0;34m}\u001b[0m\u001b[0;34m\u001b[0m\u001b[0m\n",
      "\u001b[0;32m~/Documents/LOL_CSP/LOL/league_predict/league_api.py\u001b[0m in \u001b[0;36mget_game_stats\u001b[0;34m(self, gameId)\u001b[0m\n\u001b[1;32m     70\u001b[0m         \u001b[0murl\u001b[0m \u001b[0;34m=\u001b[0m \u001b[0;34m\"{}/match/v4/matches/{}\"\u001b[0m\u001b[0;34m.\u001b[0m\u001b[0mformat\u001b[0m\u001b[0;34m(\u001b[0m\u001b[0mself\u001b[0m\u001b[0;34m.\u001b[0m\u001b[0mbase_url\u001b[0m\u001b[0;34m,\u001b[0m\u001b[0mgameId\u001b[0m\u001b[0;34m)\u001b[0m\u001b[0;34m\u001b[0m\u001b[0m\n\u001b[1;32m     71\u001b[0m         \u001b[0mdata\u001b[0m \u001b[0;34m=\u001b[0m \u001b[0mrequests\u001b[0m\u001b[0;34m.\u001b[0m\u001b[0mget\u001b[0m\u001b[0;34m(\u001b[0m\u001b[0murl\u001b[0m\u001b[0;34m=\u001b[0m\u001b[0murl\u001b[0m\u001b[0;34m,\u001b[0m\u001b[0mparams\u001b[0m \u001b[0;34m=\u001b[0m \u001b[0mself\u001b[0m\u001b[0;34m.\u001b[0m\u001b[0mparams\u001b[0m\u001b[0;34m)\u001b[0m\u001b[0;34m\u001b[0m\u001b[0m\n\u001b[0;32m---> 72\u001b[0;31m         \u001b[0mtime\u001b[0m\u001b[0;34m.\u001b[0m\u001b[0msleep\u001b[0m\u001b[0;34m(\u001b[0m\u001b[0;36m1.3\u001b[0m\u001b[0;34m)\u001b[0m\u001b[0;34m\u001b[0m\u001b[0m\n\u001b[0m\u001b[1;32m     73\u001b[0m         \u001b[0;32mif\u001b[0m \u001b[0mdata\u001b[0m\u001b[0;34m.\u001b[0m\u001b[0mstatus_code\u001b[0m \u001b[0;34m==\u001b[0m \u001b[0;36m200\u001b[0m\u001b[0;34m:\u001b[0m\u001b[0;34m\u001b[0m\u001b[0m\n\u001b[1;32m     74\u001b[0m             \u001b[0mdata_json\u001b[0m \u001b[0;34m=\u001b[0m \u001b[0mjson\u001b[0m\u001b[0;34m.\u001b[0m\u001b[0mloads\u001b[0m\u001b[0;34m(\u001b[0m\u001b[0mdata\u001b[0m\u001b[0;34m.\u001b[0m\u001b[0mtext\u001b[0m\u001b[0;34m)\u001b[0m\u001b[0;34m\u001b[0m\u001b[0m\n",
      "\u001b[0;31mKeyboardInterrupt\u001b[0m: "
     ]
    }
   ],
   "source": [
    "#we only query data for 1 user first\n",
    "#for each player, we query his most 10 recent matches\n",
    "#for each match, we query match history of 10 players \n",
    "#for each of those player, we query his most 5 recent matches\n",
    "#and then we stop there => around 60 matches query = 1 match\n",
    "# we sacrifice data quality for quantity, getting as much matches as possible\n",
    "match_count = 0\n",
    "for player in tqdm(player_list):\n",
    "    print(\"seed user {}\".format(player))\n",
    "    all_other_players,len_matches = get_games_1_player(player,10)\n",
    "    placeholder = None\n",
    "    print(\"query {} other players\".format(len(all_other_players)))\n",
    "    for o_pl in all_other_players: #for each other player, query 5 matches\n",
    "        placeholder = get_games_1_player(o_pl,5)\n",
    "    match_count += len_matches\n",
    "    print(\"Done for user {}, now we have {} full matches\".format(player,match_count))\n"
   ]
  },
  {
   "cell_type": "code",
   "execution_count": null,
   "metadata": {},
   "outputs": [],
   "source": []
  }
 ],
 "metadata": {
  "kernelspec": {
   "display_name": "Python 3",
   "language": "python",
   "name": "python3"
  },
  "language_info": {
   "codemirror_mode": {
    "name": "ipython",
    "version": 3
   },
   "file_extension": ".py",
   "mimetype": "text/x-python",
   "name": "python",
   "nbconvert_exporter": "python",
   "pygments_lexer": "ipython3",
   "version": "3.6.4"
  },
  "toc": {
   "base_numbering": 1,
   "nav_menu": {},
   "number_sections": true,
   "sideBar": true,
   "skip_h1_title": false,
   "title_cell": "Table of Contents",
   "title_sidebar": "Contents",
   "toc_cell": false,
   "toc_position": {},
   "toc_section_display": true,
   "toc_window_display": false
  }
 },
 "nbformat": 4,
 "nbformat_minor": 2
}
