{
 "cells": [
  {
   "cell_type": "code",
   "execution_count": 61,
   "metadata": {},
   "outputs": [
    {
     "name": "stdout",
     "output_type": "stream",
     "text": "/Library/Frameworks/Python.framework/Versions/3.6/bin/python3\n"
    }
   ],
   "source": [
    "import sys\n",
    "print(sys.executable)\n",
    "from azure.cosmos import CosmosClient, PartitionKey, exceptions\n",
    "from tqdm import tqdm"
   ]
  },
  {
   "cell_type": "code",
   "execution_count": 62,
   "metadata": {},
   "outputs": [],
   "source": [
    "ACCOUNT_URI = \"https://lolpredict.documents.azure.com:443/\"\n",
    "ACCOUNT_KEY = \"UcLcT6bvFUsk677XfibNhJIIqiAstRkaWWrqTJaQOCmVqx0IN0J1ufYdpbsarowutD6nMSKaaLS1NqcD0QDIdQ==\"\n",
    "client = CosmosClient(ACCOUNT_URI, credential=ACCOUNT_KEY)\n"
   ]
  },
  {
   "cell_type": "markdown",
   "execution_count": null,
   "metadata": {},
   "outputs": [],
   "source": [
    "## Create League Database"
   ]
  },
  {
   "cell_type": "code",
   "execution_count": 54,
   "metadata": {},
   "outputs": [],
   "source": [
    "def create_database(database_name):\n",
    "    try:\n",
    "        database = client.create_database(database_name)\n",
    "    except exceptions.CosmosResourceExistsError:\n",
    "        database = client.get_database_client(database_name)\n",
    "    return database\n",
    "\n",
    "def create_container(database, container_name):\n",
    "    try:\n",
    "        container = database.create_container(id=container_name,    partition_key=PartitionKey(path=\"/league\"))\n",
    "    except exceptions.CosmosResourceExistsError:\n",
    "        container = database.get_container_client(container_name)\n",
    "    except exceptions.CosmosHttpResponseError:\n",
    "        raise\n",
    "    return container\n",
    "\n",
    "def get_database(database_name):\n",
    "    return client.get_database_client(database_name)\n",
    "\n",
    "def get_container(database, container_name):\n",
    "    return database.get_container_client(container_name)\n",
    "\n",
    "def insert_item(container,data):\n",
    "    container.upsert_item(data)"
   ]
  },
  {
   "cell_type": "code",
   "execution_count": 55,
   "metadata": {},
   "outputs": [],
   "source": [
    "database = create_database(\"league_all_data\")\n",
    "champion_container = create_container(database, \"champion\")\n"
   ]
  },
  {
   "cell_type": "markdown",
   "execution_count": null,
   "metadata": {},
   "outputs": [],
   "source": [
    "## send champion data to azure "
   ]
  },
  {
   "cell_type": "code",
   "execution_count": 56,
   "metadata": {},
   "outputs": [],
   "source": [
    "import json "
   ]
  },
  {
   "cell_type": "code",
   "execution_count": 57,
   "metadata": {},
   "outputs": [],
   "source": [
    "count = 0\n",
    "with open(\"LOL/league_predict/champion.json\",\"rb\") as champ:\n",
    "    champ_json = json.load(champ)\n",
    "    #load through each champ"
   ]
  },
  {
   "cell_type": "code",
   "execution_count": 60,
   "metadata": {},
   "outputs": [
    {
     "data": {
      "application/vnd.jupyter.widget-view+json": {
       "model_id": "16dff5ba588d4cacbf301af6c75ced9b",
       "version_major": 2,
       "version_minor": 0
      },
      "text/html": "<p>Failed to display Jupyter Widget of type <code>HBox</code>.</p>\n<p>\n  If you're reading this message in the Jupyter Notebook or JupyterLab Notebook, it may mean\n  that the widgets JavaScript is still loading. If this message persists, it\n  likely means that the widgets JavaScript library is either not installed or\n  not enabled. See the <a href=\"https://ipywidgets.readthedocs.io/en/stable/user_install.html\">Jupyter\n  Widgets Documentation</a> for setup instructions.\n</p>\n<p>\n  If you're reading this message in another frontend (for example, a static\n  rendering on GitHub or <a href=\"https://nbviewer.jupyter.org/\">NBViewer</a>),\n  it may mean that your frontend doesn't currently support widgets.\n</p>\n",
      "text/plain": "HBox(children=(IntProgress(value=0, max=146), HTML(value='')))"
     },
     "metadata": {},
     "output_type": "display_data"
    },
    {
     "name": "stdout",
     "output_type": "stream",
     "text": "\nDone insert data to cosmosDB\n"
    }
   ],
   "source": [
    "for c in tqdm(champ_json['data'].keys()):\n",
    "    c_data_raw = champ_json['data'][c]\n",
    "    champ_dict = {}\n",
    "    champ_dict['id'] = c_data_raw['key']\n",
    "    champ_dict['name'] = c\n",
    "    champ_dict['stats'] = c_data_raw['stats']\n",
    "    champ_dict['tags'] = c_data_raw['tags']\n",
    "    insert_item(champion_container,champ_dict)\n",
    "print(\"Done insert data to cosmosDB\") "
   ]
  },
  {
   "cell_type": "code",
   "execution_count": 42,
   "metadata": {},
   "outputs": [],
   "source": [
    "c_data_raw['key']"
   ]
  },
  {
   "cell_type": "markdown",
   "execution_count": null,
   "metadata": {},
   "outputs": [],
   "source": [
    "## Querying champion data from CosmosDB"
   ]
  },
  {
   "cell_type": "markdown",
   "execution_count": 73,
   "metadata": {},
   "outputs": [
    {
     "name": "stdout",
     "output_type": "stream",
     "text": "{\n \"id\": \"23\",\n \"name\": \"Tryndamere\",\n \"stats\": {\n  \"hp\": 625.64,\n  \"hpperlevel\": 98,\n  \"mp\": 100,\n  \"mpperlevel\": 0,\n  \"movespeed\": 345,\n  \"armor\": 33,\n  \"armorperlevel\": 3.1,\n  \"spellblock\": 32.1,\n  \"spellblockperlevel\": 1.25,\n  \"attackrange\": 125,\n  \"hpregen\": 8.5,\n  \"hpregenperlevel\": 0.9,\n  \"mpregen\": 0,\n  \"mpregenperlevel\": 0,\n  \"crit\": 0,\n  \"critperlevel\": 0,\n  \"attackdamage\": 69,\n  \"attackdamageperlevel\": 3.7,\n  \"attackspeedperlevel\": 2.9,\n  \"attackspeed\": 0.67\n },\n \"tags\": [\n  \"Fighter\",\n  \"Assassin\"\n ],\n \"_rid\": \"nXoLAIObOW95AAAAAAAAAA==\",\n \"_self\": \"dbs/nXoLAA==/colls/nXoLAIObOW8=/docs/nXoLAIObOW95AAAAAAAAAA==/\",\n \"_etag\": \"\\\"0900f494-0000-0400-0000-5dcf33b90000\\\"\",\n \"_attachments\": \"attachments/\",\n \"_ts\": 1573860281\n}\n----------\n"
    }
   ],
   "source": []
  },
  {
   "cell_type": "code",
   "execution_count": 79,
   "metadata": {},
   "outputs": [
    {
     "name": "stdout",
     "output_type": "stream",
     "text": "{\n \"id\": \"23\",\n \"name\": \"Tryndamere\",\n \"stats\": {\n  \"hp\": 625.64,\n  \"hpperlevel\": 98,\n  \"mp\": 100,\n  \"mpperlevel\": 0,\n  \"movespeed\": 345,\n  \"armor\": 33,\n  \"armorperlevel\": 3.1,\n  \"spellblock\": 32.1,\n  \"spellblockperlevel\": 1.25,\n  \"attackrange\": 125,\n  \"hpregen\": 8.5,\n  \"hpregenperlevel\": 0.9,\n  \"mpregen\": 0,\n  \"mpregenperlevel\": 0,\n  \"crit\": 0,\n  \"critperlevel\": 0,\n  \"attackdamage\": 69,\n  \"attackdamageperlevel\": 3.7,\n  \"attackspeedperlevel\": 2.9,\n  \"attackspeed\": 0.67\n },\n \"tags\": [\n  \"Fighter\",\n  \"Assassin\"\n ],\n \"_rid\": \"nXoLAIObOW95AAAAAAAAAA==\",\n \"_self\": \"dbs/nXoLAA==/colls/nXoLAIObOW8=/docs/nXoLAIObOW95AAAAAAAAAA==/\",\n \"_etag\": \"\\\"0900f494-0000-0400-0000-5dcf33b90000\\\"\",\n \"_attachments\": \"attachments/\",\n \"_ts\": 1573860281\n}\n----------\n"
    }
   ],
   "source": [
    "query = \"SELECT * FROM mycontainer r WHERE r.id='23'\"\n",
    "for item in champion_container.query_items(query=query, enable_cross_partition_query=True):\n",
    "    print(json.dumps(item, indent=True))\n",
    "    print(\"-\"*10)"
   ]
  },
  {
   "cell_type": "code",
   "execution_count": null,
   "metadata": {},
   "outputs": [],
   "source": []
  }
 ],
 "metadata": {
  "kernelspec": {
   "display_name": "Python 3",
   "language": "python",
   "name": "python3"
  },
  "language_info": {
   "codemirror_mode": {
    "name": "ipython",
    "version": 3
   },
   "file_extension": ".py",
   "mimetype": "text/x-python",
   "name": "python",
   "nbconvert_exporter": "python",
   "pygments_lexer": "ipython3",
   "version": "3.6.4"
  },
  "toc": {
   "base_numbering": 1,
   "nav_menu": {},
   "number_sections": true,
   "sideBar": true,
   "skip_h1_title": false,
   "title_cell": "Table of Contents",
   "title_sidebar": "Contents",
   "toc_cell": false,
   "toc_position": {},
   "toc_section_display": true,
   "toc_window_display": false
  }
 },
 "nbformat": 4,
 "nbformat_minor": 2
}