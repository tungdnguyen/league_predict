{
 "cells": [
  {
   "cell_type": "code",
   "execution_count": 1,
   "metadata": {
    "ExecuteTime": {
     "end_time": "2019-11-16T01:42:30.801287Z",
     "start_time": "2019-11-16T01:42:30.646711Z"
    }
   },
   "outputs": [],
   "source": [
    "import requests\n",
    "import json"
   ]
  },
  {
   "cell_type": "markdown",
   "metadata": {},
   "source": [
    "## get player list from a certain rank "
   ]
  },
  {
   "cell_type": "code",
   "execution_count": 2,
   "metadata": {
    "ExecuteTime": {
     "end_time": "2019-11-16T01:42:31.039841Z",
     "start_time": "2019-11-16T01:42:31.036720Z"
    }
   },
   "outputs": [],
   "source": [
    "API = \"RGAPI-82ec18c1-a18d-469d-b54e-04b5da131794\"\n",
    "url = \"https://na1.api.riotgames.com/lol/league/v4/entries/RANKED_SOLO_5x5/DIAMOND/I\"\n",
    "params = {\"api_key\":API}"
   ]
  },
  {
   "cell_type": "code",
   "execution_count": 3,
   "metadata": {
    "ExecuteTime": {
     "end_time": "2019-11-16T01:42:31.730224Z",
     "start_time": "2019-11-16T01:42:31.230254Z"
    }
   },
   "outputs": [],
   "source": [
    "d = requests.get(url=url,params=params)"
   ]
  },
  {
   "cell_type": "code",
   "execution_count": 4,
   "metadata": {
    "ExecuteTime": {
     "end_time": "2019-11-16T01:42:31.737172Z",
     "start_time": "2019-11-16T01:42:31.733107Z"
    }
   },
   "outputs": [],
   "source": [
    "j = json.loads(d.text)\n"
   ]
  },
  {
   "cell_type": "code",
   "execution_count": 29,
   "metadata": {
    "ExecuteTime": {
     "end_time": "2019-11-16T02:41:40.775571Z",
     "start_time": "2019-11-16T02:41:40.768379Z"
    }
   },
   "outputs": [
    {
     "name": "stdout",
     "output_type": "stream",
     "text": [
      "{'championId': 145, 'championLevel': 7, 'championPoints': 95146, 'lastPlayTime': 1564406576000, 'championPointsSinceLastLevel': 73546, 'championPointsUntilNextLevel': 0, 'chestGranted': True, 'tokensEarned': 0, 'summonerId': 'EuXHkripW2Qav3H2l1uGWapRCMgwQh4fHIVFybcTCuTk8XX_'}\n",
      "{'championId': 245, 'championLevel': 6, 'championPoints': 94233, 'lastPlayTime': 1573783586000, 'championPointsSinceLastLevel': 72633, 'championPointsUntilNextLevel': 0, 'chestGranted': True, 'tokensEarned': 3, 'summonerId': 'EuXHkripW2Qav3H2l1uGWapRCMgwQh4fHIVFybcTCuTk8XX_'}\n",
      "{'championId': 267, 'championLevel': 5, 'championPoints': 72403, 'lastPlayTime': 1566649139000, 'championPointsSinceLastLevel': 50803, 'championPointsUntilNextLevel': 0, 'chestGranted': False, 'tokensEarned': 2, 'summonerId': 'EuXHkripW2Qav3H2l1uGWapRCMgwQh4fHIVFybcTCuTk8XX_'}\n",
      "{'championId': 16, 'championLevel': 5, 'championPoints': 45287, 'lastPlayTime': 1566106292000, 'championPointsSinceLastLevel': 23687, 'championPointsUntilNextLevel': 0, 'chestGranted': True, 'tokensEarned': 2, 'summonerId': 'EuXHkripW2Qav3H2l1uGWapRCMgwQh4fHIVFybcTCuTk8XX_'}\n",
      "{'championId': 117, 'championLevel': 5, 'championPoints': 42593, 'lastPlayTime': 1566638481000, 'championPointsSinceLastLevel': 20993, 'championPointsUntilNextLevel': 0, 'chestGranted': True, 'tokensEarned': 2, 'summonerId': 'EuXHkripW2Qav3H2l1uGWapRCMgwQh4fHIVFybcTCuTk8XX_'}\n",
      "{'championId': 39, 'championLevel': 5, 'championPoints': 33503, 'lastPlayTime': 1573606578000, 'championPointsSinceLastLevel': 11903, 'championPointsUntilNextLevel': 0, 'chestGranted': True, 'tokensEarned': 2, 'summonerId': 'EuXHkripW2Qav3H2l1uGWapRCMgwQh4fHIVFybcTCuTk8XX_'}\n",
      "{'championId': 1, 'championLevel': 7, 'championPoints': 31119, 'lastPlayTime': 1567740137000, 'championPointsSinceLastLevel': 9519, 'championPointsUntilNextLevel': 0, 'chestGranted': True, 'tokensEarned': 0, 'summonerId': 'EuXHkripW2Qav3H2l1uGWapRCMgwQh4fHIVFybcTCuTk8XX_'}\n",
      "{'championId': 222, 'championLevel': 7, 'championPoints': 30852, 'lastPlayTime': 1549126094000, 'championPointsSinceLastLevel': 9252, 'championPointsUntilNextLevel': 0, 'chestGranted': False, 'tokensEarned': 0, 'summonerId': 'EuXHkripW2Qav3H2l1uGWapRCMgwQh4fHIVFybcTCuTk8XX_'}\n",
      "{'championId': 40, 'championLevel': 5, 'championPoints': 27385, 'lastPlayTime': 1544932963000, 'championPointsSinceLastLevel': 5785, 'championPointsUntilNextLevel': 0, 'chestGranted': False, 'tokensEarned': 2, 'summonerId': 'EuXHkripW2Qav3H2l1uGWapRCMgwQh4fHIVFybcTCuTk8XX_'}\n",
      "{'championId': 13, 'championLevel': 5, 'championPoints': 25608, 'lastPlayTime': 1573868682000, 'championPointsSinceLastLevel': 4008, 'championPointsUntilNextLevel': 0, 'chestGranted': True, 'tokensEarned': 1, 'summonerId': 'EuXHkripW2Qav3H2l1uGWapRCMgwQh4fHIVFybcTCuTk8XX_'}\n",
      "{'championId': 38, 'championLevel': 5, 'championPoints': 24112, 'lastPlayTime': 1571709503000, 'championPointsSinceLastLevel': 2512, 'championPointsUntilNextLevel': 0, 'chestGranted': True, 'tokensEarned': 2, 'summonerId': 'EuXHkripW2Qav3H2l1uGWapRCMgwQh4fHIVFybcTCuTk8XX_'}\n",
      "{'championId': 24, 'championLevel': 4, 'championPoints': 20526, 'lastPlayTime': 1573602951000, 'championPointsSinceLastLevel': 7926, 'championPointsUntilNextLevel': 1074, 'chestGranted': True, 'tokensEarned': 0, 'summonerId': 'EuXHkripW2Qav3H2l1uGWapRCMgwQh4fHIVFybcTCuTk8XX_'}\n",
      "{'championId': 246, 'championLevel': 4, 'championPoints': 12755, 'lastPlayTime': 1573866875000, 'championPointsSinceLastLevel': 155, 'championPointsUntilNextLevel': 8845, 'chestGranted': True, 'tokensEarned': 0, 'summonerId': 'EuXHkripW2Qav3H2l1uGWapRCMgwQh4fHIVFybcTCuTk8XX_'}\n",
      "{'championId': 43, 'championLevel': 3, 'championPoints': 11602, 'lastPlayTime': 1568242970000, 'championPointsSinceLastLevel': 5602, 'championPointsUntilNextLevel': 998, 'chestGranted': True, 'tokensEarned': 0, 'summonerId': 'EuXHkripW2Qav3H2l1uGWapRCMgwQh4fHIVFybcTCuTk8XX_'}\n",
      "{'championId': 266, 'championLevel': 3, 'championPoints': 10991, 'lastPlayTime': 1570748877000, 'championPointsSinceLastLevel': 4991, 'championPointsUntilNextLevel': 1609, 'chestGranted': True, 'tokensEarned': 0, 'summonerId': 'EuXHkripW2Qav3H2l1uGWapRCMgwQh4fHIVFybcTCuTk8XX_'}\n",
      "{'championId': 63, 'championLevel': 3, 'championPoints': 9341, 'lastPlayTime': 1566608421000, 'championPointsSinceLastLevel': 3341, 'championPointsUntilNextLevel': 3259, 'chestGranted': True, 'tokensEarned': 0, 'summonerId': 'EuXHkripW2Qav3H2l1uGWapRCMgwQh4fHIVFybcTCuTk8XX_'}\n",
      "{'championId': 121, 'championLevel': 3, 'championPoints': 6108, 'lastPlayTime': 1573604520000, 'championPointsSinceLastLevel': 108, 'championPointsUntilNextLevel': 6492, 'chestGranted': True, 'tokensEarned': 0, 'summonerId': 'EuXHkripW2Qav3H2l1uGWapRCMgwQh4fHIVFybcTCuTk8XX_'}\n",
      "{'championId': 84, 'championLevel': 2, 'championPoints': 5768, 'lastPlayTime': 1573247219000, 'championPointsSinceLastLevel': 3968, 'championPointsUntilNextLevel': 232, 'chestGranted': True, 'tokensEarned': 0, 'summonerId': 'EuXHkripW2Qav3H2l1uGWapRCMgwQh4fHIVFybcTCuTk8XX_'}\n",
      "{'championId': 236, 'championLevel': 2, 'championPoints': 5619, 'lastPlayTime': 1570317505000, 'championPointsSinceLastLevel': 3819, 'championPointsUntilNextLevel': 381, 'chestGranted': True, 'tokensEarned': 0, 'summonerId': 'EuXHkripW2Qav3H2l1uGWapRCMgwQh4fHIVFybcTCuTk8XX_'}\n",
      "{'championId': 103, 'championLevel': 2, 'championPoints': 5543, 'lastPlayTime': 1566639812000, 'championPointsSinceLastLevel': 3743, 'championPointsUntilNextLevel': 457, 'chestGranted': False, 'tokensEarned': 0, 'summonerId': 'EuXHkripW2Qav3H2l1uGWapRCMgwQh4fHIVFybcTCuTk8XX_'}\n",
      "{'championId': 51, 'championLevel': 2, 'championPoints': 5333, 'lastPlayTime': 1570381097000, 'championPointsSinceLastLevel': 3533, 'championPointsUntilNextLevel': 667, 'chestGranted': False, 'tokensEarned': 0, 'summonerId': 'EuXHkripW2Qav3H2l1uGWapRCMgwQh4fHIVFybcTCuTk8XX_'}\n",
      "{'championId': 517, 'championLevel': 2, 'championPoints': 5223, 'lastPlayTime': 1568498898000, 'championPointsSinceLastLevel': 3423, 'championPointsUntilNextLevel': 777, 'chestGranted': True, 'tokensEarned': 0, 'summonerId': 'EuXHkripW2Qav3H2l1uGWapRCMgwQh4fHIVFybcTCuTk8XX_'}\n",
      "{'championId': 25, 'championLevel': 2, 'championPoints': 4923, 'lastPlayTime': 1540339957000, 'championPointsSinceLastLevel': 3123, 'championPointsUntilNextLevel': 1077, 'chestGranted': False, 'tokensEarned': 0, 'summonerId': 'EuXHkripW2Qav3H2l1uGWapRCMgwQh4fHIVFybcTCuTk8XX_'}\n",
      "{'championId': 350, 'championLevel': 2, 'championPoints': 4908, 'lastPlayTime': 1569331754000, 'championPointsSinceLastLevel': 3108, 'championPointsUntilNextLevel': 1092, 'chestGranted': True, 'tokensEarned': 0, 'summonerId': 'EuXHkripW2Qav3H2l1uGWapRCMgwQh4fHIVFybcTCuTk8XX_'}\n",
      "{'championId': 164, 'championLevel': 2, 'championPoints': 4769, 'lastPlayTime': 1571450958000, 'championPointsSinceLastLevel': 2969, 'championPointsUntilNextLevel': 1231, 'chestGranted': True, 'tokensEarned': 0, 'summonerId': 'EuXHkripW2Qav3H2l1uGWapRCMgwQh4fHIVFybcTCuTk8XX_'}\n",
      "{'championId': 7, 'championLevel': 2, 'championPoints': 4605, 'lastPlayTime': 1569088003000, 'championPointsSinceLastLevel': 2805, 'championPointsUntilNextLevel': 1395, 'chestGranted': True, 'tokensEarned': 0, 'summonerId': 'EuXHkripW2Qav3H2l1uGWapRCMgwQh4fHIVFybcTCuTk8XX_'}\n",
      "{'championId': 105, 'championLevel': 2, 'championPoints': 4496, 'lastPlayTime': 1571276280000, 'championPointsSinceLastLevel': 2696, 'championPointsUntilNextLevel': 1504, 'chestGranted': True, 'tokensEarned': 0, 'summonerId': 'EuXHkripW2Qav3H2l1uGWapRCMgwQh4fHIVFybcTCuTk8XX_'}\n",
      "{'championId': 142, 'championLevel': 2, 'championPoints': 4003, 'lastPlayTime': 1571606398000, 'championPointsSinceLastLevel': 2203, 'championPointsUntilNextLevel': 1997, 'chestGranted': True, 'tokensEarned': 0, 'summonerId': 'EuXHkripW2Qav3H2l1uGWapRCMgwQh4fHIVFybcTCuTk8XX_'}\n",
      "{'championId': 91, 'championLevel': 2, 'championPoints': 3693, 'lastPlayTime': 1570751571000, 'championPointsSinceLastLevel': 1893, 'championPointsUntilNextLevel': 2307, 'chestGranted': True, 'tokensEarned': 0, 'summonerId': 'EuXHkripW2Qav3H2l1uGWapRCMgwQh4fHIVFybcTCuTk8XX_'}\n",
      "{'championId': 64, 'championLevel': 2, 'championPoints': 3678, 'lastPlayTime': 1573251797000, 'championPointsSinceLastLevel': 1878, 'championPointsUntilNextLevel': 2322, 'chestGranted': True, 'tokensEarned': 0, 'summonerId': 'EuXHkripW2Qav3H2l1uGWapRCMgwQh4fHIVFybcTCuTk8XX_'}\n",
      "{'championId': 67, 'championLevel': 2, 'championPoints': 3650, 'lastPlayTime': 1541119968000, 'championPointsSinceLastLevel': 1850, 'championPointsUntilNextLevel': 2350, 'chestGranted': False, 'tokensEarned': 0, 'summonerId': 'EuXHkripW2Qav3H2l1uGWapRCMgwQh4fHIVFybcTCuTk8XX_'}\n",
      "{'championId': 497, 'championLevel': 2, 'championPoints': 2871, 'lastPlayTime': 1540346668000, 'championPointsSinceLastLevel': 1071, 'championPointsUntilNextLevel': 3129, 'chestGranted': False, 'tokensEarned': 0, 'summonerId': 'EuXHkripW2Qav3H2l1uGWapRCMgwQh4fHIVFybcTCuTk8XX_'}\n",
      "{'championId': 101, 'championLevel': 2, 'championPoints': 2712, 'lastPlayTime': 1566558927000, 'championPointsSinceLastLevel': 912, 'championPointsUntilNextLevel': 3288, 'chestGranted': False, 'tokensEarned': 0, 'summonerId': 'EuXHkripW2Qav3H2l1uGWapRCMgwQh4fHIVFybcTCuTk8XX_'}\n",
      "{'championId': 42, 'championLevel': 2, 'championPoints': 2163, 'lastPlayTime': 1573333957000, 'championPointsSinceLastLevel': 363, 'championPointsUntilNextLevel': 3837, 'chestGranted': True, 'tokensEarned': 0, 'summonerId': 'EuXHkripW2Qav3H2l1uGWapRCMgwQh4fHIVFybcTCuTk8XX_'}\n",
      "{'championId': 161, 'championLevel': 2, 'championPoints': 1983, 'lastPlayTime': 1540626898000, 'championPointsSinceLastLevel': 183, 'championPointsUntilNextLevel': 4017, 'chestGranted': False, 'tokensEarned': 0, 'summonerId': 'EuXHkripW2Qav3H2l1uGWapRCMgwQh4fHIVFybcTCuTk8XX_'}\n",
      "{'championId': 69, 'championLevel': 2, 'championPoints': 1937, 'lastPlayTime': 1571604047000, 'championPointsSinceLastLevel': 137, 'championPointsUntilNextLevel': 4063, 'chestGranted': True, 'tokensEarned': 0, 'summonerId': 'EuXHkripW2Qav3H2l1uGWapRCMgwQh4fHIVFybcTCuTk8XX_'}\n",
      "{'championId': 99, 'championLevel': 2, 'championPoints': 1920, 'lastPlayTime': 1539886387000, 'championPointsSinceLastLevel': 120, 'championPointsUntilNextLevel': 4080, 'chestGranted': False, 'tokensEarned': 0, 'summonerId': 'EuXHkripW2Qav3H2l1uGWapRCMgwQh4fHIVFybcTCuTk8XX_'}\n",
      "{'championId': 20, 'championLevel': 1, 'championPoints': 1650, 'lastPlayTime': 1566121142000, 'championPointsSinceLastLevel': 1650, 'championPointsUntilNextLevel': 150, 'chestGranted': False, 'tokensEarned': 0, 'summonerId': 'EuXHkripW2Qav3H2l1uGWapRCMgwQh4fHIVFybcTCuTk8XX_'}\n",
      "{'championId': 21, 'championLevel': 1, 'championPoints': 1632, 'lastPlayTime': 1548088298000, 'championPointsSinceLastLevel': 1632, 'championPointsUntilNextLevel': 168, 'chestGranted': False, 'tokensEarned': 0, 'summonerId': 'EuXHkripW2Qav3H2l1uGWapRCMgwQh4fHIVFybcTCuTk8XX_'}\n",
      "{'championId': 61, 'championLevel': 1, 'championPoints': 1476, 'lastPlayTime': 1570589005000, 'championPointsSinceLastLevel': 1476, 'championPointsUntilNextLevel': 324, 'chestGranted': False, 'tokensEarned': 0, 'summonerId': 'EuXHkripW2Qav3H2l1uGWapRCMgwQh4fHIVFybcTCuTk8XX_'}\n",
      "{'championId': 26, 'championLevel': 1, 'championPoints': 1398, 'lastPlayTime': 1539885117000, 'championPointsSinceLastLevel': 1398, 'championPointsUntilNextLevel': 402, 'chestGranted': False, 'tokensEarned': 0, 'summonerId': 'EuXHkripW2Qav3H2l1uGWapRCMgwQh4fHIVFybcTCuTk8XX_'}\n",
      "{'championId': 96, 'championLevel': 1, 'championPoints': 1279, 'lastPlayTime': 1548085849000, 'championPointsSinceLastLevel': 1279, 'championPointsUntilNextLevel': 521, 'chestGranted': False, 'tokensEarned': 0, 'summonerId': 'EuXHkripW2Qav3H2l1uGWapRCMgwQh4fHIVFybcTCuTk8XX_'}\n",
      "{'championId': 8, 'championLevel': 1, 'championPoints': 1218, 'lastPlayTime': 1573345575000, 'championPointsSinceLastLevel': 1218, 'championPointsUntilNextLevel': 582, 'chestGranted': True, 'tokensEarned': 0, 'summonerId': 'EuXHkripW2Qav3H2l1uGWapRCMgwQh4fHIVFybcTCuTk8XX_'}\n",
      "{'championId': 29, 'championLevel': 1, 'championPoints': 1212, 'lastPlayTime': 1545785559000, 'championPointsSinceLastLevel': 1212, 'championPointsUntilNextLevel': 588, 'chestGranted': False, 'tokensEarned': 0, 'summonerId': 'EuXHkripW2Qav3H2l1uGWapRCMgwQh4fHIVFybcTCuTk8XX_'}\n",
      "{'championId': 126, 'championLevel': 1, 'championPoints': 1187, 'lastPlayTime': 1567802197000, 'championPointsSinceLastLevel': 1187, 'championPointsUntilNextLevel': 613, 'chestGranted': False, 'tokensEarned': 0, 'summonerId': 'EuXHkripW2Qav3H2l1uGWapRCMgwQh4fHIVFybcTCuTk8XX_'}\n",
      "{'championId': 18, 'championLevel': 1, 'championPoints': 1124, 'lastPlayTime': 1570314401000, 'championPointsSinceLastLevel': 1124, 'championPointsUntilNextLevel': 676, 'chestGranted': False, 'tokensEarned': 0, 'summonerId': 'EuXHkripW2Qav3H2l1uGWapRCMgwQh4fHIVFybcTCuTk8XX_'}\n",
      "{'championId': 85, 'championLevel': 1, 'championPoints': 1058, 'lastPlayTime': 1561933933000, 'championPointsSinceLastLevel': 1058, 'championPointsUntilNextLevel': 742, 'chestGranted': False, 'tokensEarned': 0, 'summonerId': 'EuXHkripW2Qav3H2l1uGWapRCMgwQh4fHIVFybcTCuTk8XX_'}\n",
      "{'championId': 54, 'championLevel': 1, 'championPoints': 1004, 'lastPlayTime': 1541966424000, 'championPointsSinceLastLevel': 1004, 'championPointsUntilNextLevel': 796, 'chestGranted': False, 'tokensEarned': 0, 'summonerId': 'EuXHkripW2Qav3H2l1uGWapRCMgwQh4fHIVFybcTCuTk8XX_'}\n",
      "{'championId': 37, 'championLevel': 1, 'championPoints': 999, 'lastPlayTime': 1566038798000, 'championPointsSinceLastLevel': 999, 'championPointsUntilNextLevel': 801, 'chestGranted': False, 'tokensEarned': 0, 'summonerId': 'EuXHkripW2Qav3H2l1uGWapRCMgwQh4fHIVFybcTCuTk8XX_'}\n",
      "{'championId': 133, 'championLevel': 1, 'championPoints': 979, 'lastPlayTime': 1542337478000, 'championPointsSinceLastLevel': 979, 'championPointsUntilNextLevel': 821, 'chestGranted': False, 'tokensEarned': 0, 'summonerId': 'EuXHkripW2Qav3H2l1uGWapRCMgwQh4fHIVFybcTCuTk8XX_'}\n",
      "{'championId': 421, 'championLevel': 1, 'championPoints': 976, 'lastPlayTime': 1573518572000, 'championPointsSinceLastLevel': 976, 'championPointsUntilNextLevel': 824, 'chestGranted': True, 'tokensEarned': 0, 'summonerId': 'EuXHkripW2Qav3H2l1uGWapRCMgwQh4fHIVFybcTCuTk8XX_'}\n",
      "{'championId': 432, 'championLevel': 1, 'championPoints': 968, 'lastPlayTime': 1546749336000, 'championPointsSinceLastLevel': 968, 'championPointsUntilNextLevel': 832, 'chestGranted': False, 'tokensEarned': 0, 'summonerId': 'EuXHkripW2Qav3H2l1uGWapRCMgwQh4fHIVFybcTCuTk8XX_'}\n",
      "{'championId': 32, 'championLevel': 1, 'championPoints': 940, 'lastPlayTime': 1567741829000, 'championPointsSinceLastLevel': 940, 'championPointsUntilNextLevel': 860, 'chestGranted': False, 'tokensEarned': 0, 'summonerId': 'EuXHkripW2Qav3H2l1uGWapRCMgwQh4fHIVFybcTCuTk8XX_'}\n",
      "{'championId': 119, 'championLevel': 1, 'championPoints': 899, 'lastPlayTime': 1573870796000, 'championPointsSinceLastLevel': 899, 'championPointsUntilNextLevel': 901, 'chestGranted': False, 'tokensEarned': 0, 'summonerId': 'EuXHkripW2Qav3H2l1uGWapRCMgwQh4fHIVFybcTCuTk8XX_'}\n",
      "{'championId': 5, 'championLevel': 1, 'championPoints': 835, 'lastPlayTime': 1567738040000, 'championPointsSinceLastLevel': 835, 'championPointsUntilNextLevel': 965, 'chestGranted': True, 'tokensEarned': 0, 'summonerId': 'EuXHkripW2Qav3H2l1uGWapRCMgwQh4fHIVFybcTCuTk8XX_'}\n",
      "{'championId': 498, 'championLevel': 1, 'championPoints': 808, 'lastPlayTime': 1566661640000, 'championPointsSinceLastLevel': 808, 'championPointsUntilNextLevel': 992, 'chestGranted': False, 'tokensEarned': 0, 'summonerId': 'EuXHkripW2Qav3H2l1uGWapRCMgwQh4fHIVFybcTCuTk8XX_'}\n",
      "{'championId': 412, 'championLevel': 1, 'championPoints': 778, 'lastPlayTime': 1541658506000, 'championPointsSinceLastLevel': 778, 'championPointsUntilNextLevel': 1022, 'chestGranted': False, 'tokensEarned': 0, 'summonerId': 'EuXHkripW2Qav3H2l1uGWapRCMgwQh4fHIVFybcTCuTk8XX_'}\n",
      "{'championId': 2, 'championLevel': 1, 'championPoints': 772, 'lastPlayTime': 1566034368000, 'championPointsSinceLastLevel': 772, 'championPointsUntilNextLevel': 1028, 'chestGranted': False, 'tokensEarned': 0, 'summonerId': 'EuXHkripW2Qav3H2l1uGWapRCMgwQh4fHIVFybcTCuTk8XX_'}\n",
      "{'championId': 86, 'championLevel': 1, 'championPoints': 728, 'lastPlayTime': 1539913095000, 'championPointsSinceLastLevel': 728, 'championPointsUntilNextLevel': 1072, 'chestGranted': False, 'tokensEarned': 0, 'summonerId': 'EuXHkripW2Qav3H2l1uGWapRCMgwQh4fHIVFybcTCuTk8XX_'}\n",
      "{'championId': 114, 'championLevel': 1, 'championPoints': 591, 'lastPlayTime': 1573700208000, 'championPointsSinceLastLevel': 591, 'championPointsUntilNextLevel': 1209, 'chestGranted': False, 'tokensEarned': 0, 'summonerId': 'EuXHkripW2Qav3H2l1uGWapRCMgwQh4fHIVFybcTCuTk8XX_'}\n",
      "{'championId': 115, 'championLevel': 1, 'championPoints': 544, 'lastPlayTime': 1541659494000, 'championPointsSinceLastLevel': 544, 'championPointsUntilNextLevel': 1256, 'chestGranted': False, 'tokensEarned': 0, 'summonerId': 'EuXHkripW2Qav3H2l1uGWapRCMgwQh4fHIVFybcTCuTk8XX_'}\n",
      "{'championId': 44, 'championLevel': 1, 'championPoints': 541, 'lastPlayTime': 1539833071000, 'championPointsSinceLastLevel': 541, 'championPointsUntilNextLevel': 1259, 'chestGranted': False, 'tokensEarned': 0, 'summonerId': 'EuXHkripW2Qav3H2l1uGWapRCMgwQh4fHIVFybcTCuTk8XX_'}\n",
      "{'championId': 134, 'championLevel': 1, 'championPoints': 436, 'lastPlayTime': 1571536161000, 'championPointsSinceLastLevel': 436, 'championPointsUntilNextLevel': 1364, 'chestGranted': True, 'tokensEarned': 0, 'summonerId': 'EuXHkripW2Qav3H2l1uGWapRCMgwQh4fHIVFybcTCuTk8XX_'}\n",
      "{'championId': 429, 'championLevel': 1, 'championPoints': 235, 'lastPlayTime': 1551498551000, 'championPointsSinceLastLevel': 235, 'championPointsUntilNextLevel': 1565, 'chestGranted': False, 'tokensEarned': 0, 'summonerId': 'EuXHkripW2Qav3H2l1uGWapRCMgwQh4fHIVFybcTCuTk8XX_'}\n",
      "{'championId': 10, 'championLevel': 1, 'championPoints': 218, 'lastPlayTime': 1571614031000, 'championPointsSinceLastLevel': 218, 'championPointsUntilNextLevel': 1582, 'chestGranted': False, 'tokensEarned': 0, 'summonerId': 'EuXHkripW2Qav3H2l1uGWapRCMgwQh4fHIVFybcTCuTk8XX_'}\n",
      "{'championId': 555, 'championLevel': 1, 'championPoints': 192, 'lastPlayTime': 1567732534000, 'championPointsSinceLastLevel': 192, 'championPointsUntilNextLevel': 1608, 'chestGranted': False, 'tokensEarned': 0, 'summonerId': 'EuXHkripW2Qav3H2l1uGWapRCMgwQh4fHIVFybcTCuTk8XX_'}\n",
      "{'championId': 268, 'championLevel': 1, 'championPoints': 153, 'lastPlayTime': 1566549660000, 'championPointsSinceLastLevel': 153, 'championPointsUntilNextLevel': 1647, 'chestGranted': False, 'tokensEarned': 0, 'summonerId': 'EuXHkripW2Qav3H2l1uGWapRCMgwQh4fHIVFybcTCuTk8XX_'}\n",
      "{'championId': 72, 'championLevel': 1, 'championPoints': 129, 'lastPlayTime': 1540702382000, 'championPointsSinceLastLevel': 129, 'championPointsUntilNextLevel': 1671, 'chestGranted': False, 'tokensEarned': 0, 'summonerId': 'EuXHkripW2Qav3H2l1uGWapRCMgwQh4fHIVFybcTCuTk8XX_'}\n",
      "{'championId': 78, 'championLevel': 1, 'championPoints': 126, 'lastPlayTime': 1544136409000, 'championPointsSinceLastLevel': 126, 'championPointsUntilNextLevel': 1674, 'chestGranted': False, 'tokensEarned': 0, 'summonerId': 'EuXHkripW2Qav3H2l1uGWapRCMgwQh4fHIVFybcTCuTk8XX_'}\n",
      "{'championId': 53, 'championLevel': 1, 'championPoints': 116, 'lastPlayTime': 1566368388000, 'championPointsSinceLastLevel': 116, 'championPointsUntilNextLevel': 1684, 'chestGranted': False, 'tokensEarned': 0, 'summonerId': 'EuXHkripW2Qav3H2l1uGWapRCMgwQh4fHIVFybcTCuTk8XX_'}\n",
      "{'championId': 81, 'championLevel': 1, 'championPoints': 113, 'lastPlayTime': 1572314080000, 'championPointsSinceLastLevel': 113, 'championPointsUntilNextLevel': 1687, 'chestGranted': False, 'tokensEarned': 0, 'summonerId': 'EuXHkripW2Qav3H2l1uGWapRCMgwQh4fHIVFybcTCuTk8XX_'}\n",
      "{'championId': 89, 'championLevel': 1, 'championPoints': 112, 'lastPlayTime': 1566722845000, 'championPointsSinceLastLevel': 112, 'championPointsUntilNextLevel': 1688, 'chestGranted': False, 'tokensEarned': 0, 'summonerId': 'EuXHkripW2Qav3H2l1uGWapRCMgwQh4fHIVFybcTCuTk8XX_'}\n",
      "{'championId': 136, 'championLevel': 1, 'championPoints': 98, 'lastPlayTime': 1566550835000, 'championPointsSinceLastLevel': 98, 'championPointsUntilNextLevel': 1702, 'chestGranted': False, 'tokensEarned': 0, 'summonerId': 'EuXHkripW2Qav3H2l1uGWapRCMgwQh4fHIVFybcTCuTk8XX_'}\n",
      "{'championId': 76, 'championLevel': 1, 'championPoints': 98, 'lastPlayTime': 1540168373000, 'championPointsSinceLastLevel': 98, 'championPointsUntilNextLevel': 1702, 'chestGranted': False, 'tokensEarned': 0, 'summonerId': 'EuXHkripW2Qav3H2l1uGWapRCMgwQh4fHIVFybcTCuTk8XX_'}\n",
      "{'championId': 17, 'championLevel': 1, 'championPoints': 90, 'lastPlayTime': 1546447520000, 'championPointsSinceLastLevel': 90, 'championPointsUntilNextLevel': 1710, 'chestGranted': False, 'tokensEarned': 0, 'summonerId': 'EuXHkripW2Qav3H2l1uGWapRCMgwQh4fHIVFybcTCuTk8XX_'}\n",
      "{'championId': 201, 'championLevel': 1, 'championPoints': 79, 'lastPlayTime': 1566104829000, 'championPointsSinceLastLevel': 79, 'championPointsUntilNextLevel': 1721, 'chestGranted': False, 'tokensEarned': 0, 'summonerId': 'EuXHkripW2Qav3H2l1uGWapRCMgwQh4fHIVFybcTCuTk8XX_'}\n"
     ]
    }
   ],
   "source": [
    "for c in j:\n",
    "    print(c)"
   ]
  },
  {
   "cell_type": "markdown",
   "metadata": {},
   "source": [
    "## get a player ids"
   ]
  },
  {
   "cell_type": "code",
   "execution_count": 6,
   "metadata": {
    "ExecuteTime": {
     "end_time": "2019-11-16T01:42:32.685088Z",
     "start_time": "2019-11-16T01:42:32.381351Z"
    }
   },
   "outputs": [],
   "source": [
    "summonerId = \"EuXHkripW2Qav3H2l1uGWapRCMgwQh4fHIVFybcTCuTk8XX_\"\n",
    "url = \"https://na1.api.riotgames.com/lol/summoner/v4/summoners/\"+summonerId\n",
    "params = {\"api_key\":API}\n",
    "d = requests.get(url=url,params=params)\n",
    "j = json.loads(d.text)"
   ]
  },
  {
   "cell_type": "code",
   "execution_count": 7,
   "metadata": {
    "ExecuteTime": {
     "end_time": "2019-11-16T01:42:33.155002Z",
     "start_time": "2019-11-16T01:42:33.149936Z"
    }
   },
   "outputs": [
    {
     "data": {
      "text/plain": [
       "'PSx6zg8dI5EUGI2ubmOvOblJ6OtqurjNmkd0_k21JvFv1mMxBEspIsT5'"
      ]
     },
     "execution_count": 7,
     "metadata": {},
     "output_type": "execute_result"
    }
   ],
   "source": [
    "#done getting user object\n",
    "account = j['accountId'] #user account id\n",
    "account"
   ]
  },
  {
   "cell_type": "markdown",
   "metadata": {},
   "source": [
    "## match hisory for 1 player"
   ]
  },
  {
   "cell_type": "code",
   "execution_count": 8,
   "metadata": {
    "ExecuteTime": {
     "end_time": "2019-11-16T01:42:34.342201Z",
     "start_time": "2019-11-16T01:42:33.973122Z"
    }
   },
   "outputs": [],
   "source": [
    "url = \"https://na1.api.riotgames.com/lol/match/v4/matchlists/by-account/\" + account\n",
    "d = requests.get(url=url,params=params)\n",
    "j = json.loads(d.text)"
   ]
  },
  {
   "cell_type": "code",
   "execution_count": 9,
   "metadata": {
    "ExecuteTime": {
     "end_time": "2019-11-16T01:42:34.544475Z",
     "start_time": "2019-11-16T01:42:34.540806Z"
    }
   },
   "outputs": [],
   "source": [
    "gameId = str(j['matches'][0]['gameId'])"
   ]
  },
  {
   "cell_type": "markdown",
   "metadata": {},
   "source": [
    "## history of 1 match based on match_id"
   ]
  },
  {
   "cell_type": "code",
   "execution_count": 10,
   "metadata": {
    "ExecuteTime": {
     "end_time": "2019-11-16T01:42:36.290013Z",
     "start_time": "2019-11-16T01:42:35.949149Z"
    }
   },
   "outputs": [],
   "source": [
    "url = \"https://na1.api.riotgames.com/lol/match/v4/matches/\" + gameId\n",
    "d = requests.get(url=url,params=params)\n",
    "j = json.loads(d.text)"
   ]
  },
  {
   "cell_type": "code",
   "execution_count": 23,
   "metadata": {
    "ExecuteTime": {
     "end_time": "2019-11-16T02:21:38.965271Z",
     "start_time": "2019-11-16T02:21:38.960425Z"
    }
   },
   "outputs": [
    {
     "data": {
      "text/plain": [
       "'CInmKwfaqk85iX9GOtOmHtpj9EUVlZkGhvRHRp7cB7Uu07E'"
      ]
     },
     "execution_count": 23,
     "metadata": {},
     "output_type": "execute_result"
    }
   ],
   "source": [
    "j['participantIdentities'][0]['player']['summonerId']"
   ]
  },
  {
   "cell_type": "markdown",
   "metadata": {},
   "source": [
    "## get champion mastery for 1 player"
   ]
  },
  {
   "cell_type": "code",
   "execution_count": 30,
   "metadata": {
    "ExecuteTime": {
     "end_time": "2019-11-16T02:43:08.194517Z",
     "start_time": "2019-11-16T02:43:07.812941Z"
    }
   },
   "outputs": [],
   "source": [
    "url = \"https://na1.api.riotgames.com/lol/champion-mastery/v4/champion-masteries/by-summoner/\" + summonerId\n",
    "d = requests.get(url=url,params=params)\n",
    "j = json.loads(d.text)"
   ]
  },
  {
   "cell_type": "code",
   "execution_count": 33,
   "metadata": {
    "ExecuteTime": {
     "end_time": "2019-11-16T02:44:24.785435Z",
     "start_time": "2019-11-16T02:44:24.778145Z"
    }
   },
   "outputs": [
    {
     "name": "stdout",
     "output_type": "stream",
     "text": [
      "145\n",
      "245\n",
      "267\n",
      "16\n",
      "117\n",
      "39\n",
      "1\n",
      "222\n",
      "40\n",
      "13\n",
      "38\n",
      "24\n",
      "246\n",
      "43\n",
      "266\n",
      "63\n",
      "121\n",
      "84\n",
      "236\n",
      "103\n",
      "51\n",
      "517\n",
      "25\n",
      "350\n",
      "164\n",
      "7\n",
      "105\n",
      "142\n",
      "91\n",
      "64\n",
      "67\n",
      "497\n",
      "101\n",
      "42\n",
      "161\n",
      "69\n",
      "99\n",
      "20\n",
      "21\n",
      "61\n",
      "26\n",
      "96\n",
      "8\n",
      "29\n",
      "126\n",
      "18\n",
      "85\n",
      "54\n",
      "37\n",
      "133\n",
      "421\n",
      "432\n",
      "32\n",
      "119\n",
      "5\n",
      "498\n",
      "412\n",
      "2\n",
      "86\n",
      "114\n",
      "115\n",
      "44\n",
      "134\n",
      "429\n",
      "10\n",
      "555\n",
      "268\n",
      "72\n",
      "78\n",
      "53\n",
      "81\n",
      "89\n",
      "136\n",
      "76\n",
      "17\n",
      "201\n"
     ]
    }
   ],
   "source": [
    "for i in j:\n",
    "    print(i['championId'])"
   ]
  },
  {
   "cell_type": "code",
   "execution_count": 25,
   "metadata": {
    "ExecuteTime": {
     "end_time": "2019-11-16T02:22:44.978501Z",
     "start_time": "2019-11-16T02:22:44.973701Z"
    }
   },
   "outputs": [
    {
     "data": {
      "text/plain": [
       "True"
      ]
     },
     "execution_count": 25,
     "metadata": {},
     "output_type": "execute_result"
    }
   ],
   "source": [
    "a = \"a\"\n",
    "a != None"
   ]
  },
  {
   "cell_type": "code",
   "execution_count": null,
   "metadata": {},
   "outputs": [],
   "source": []
  }
 ],
 "metadata": {
  "kernelspec": {
   "display_name": "Python 3",
   "language": "python",
   "name": "python3"
  },
  "language_info": {
   "codemirror_mode": {
    "name": "ipython",
    "version": 3
   },
   "file_extension": ".py",
   "mimetype": "text/x-python",
   "name": "python",
   "nbconvert_exporter": "python",
   "pygments_lexer": "ipython3",
   "version": "3.6.4"
  },
  "toc": {
   "base_numbering": 1,
   "nav_menu": {},
   "number_sections": true,
   "sideBar": true,
   "skip_h1_title": false,
   "title_cell": "Table of Contents",
   "title_sidebar": "Contents",
   "toc_cell": false,
   "toc_position": {},
   "toc_section_display": true,
   "toc_window_display": false
  }
 },
 "nbformat": 4,
 "nbformat_minor": 2
}
