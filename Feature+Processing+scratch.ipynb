{
 "cells": [
  {
   "cell_type": "code",
   "execution_count": 1,
   "metadata": {
    "cell_status": {
     "execute_time": {
      "duration": 17.669921875,
      "end_time": 1574036681045.958
     }
    }
   },
   "outputs": [
    {
     "data": {
      "text/html": [
       "Current session configs: <tt>{u'kind': 'pyspark3', u'name': u'Spark-to-Cosmos_DB_Connector', u'conf': {u'spark.jars.packages': u'com.microsoft.azure:azure-cosmosdb-spark_2.4.0_2.11:1.4.0', u'spark.jars.excludes': u'org.scala-lang:scala-reflect'}}</tt><br>"
      ],
      "text/plain": [
       "<IPython.core.display.HTML object>"
      ]
     },
     "metadata": {},
     "output_type": "display_data"
    },
    {
     "data": {
      "text/html": [
       "No active sessions."
      ],
      "text/plain": [
       "<IPython.core.display.HTML object>"
      ]
     },
     "metadata": {},
     "output_type": "display_data"
    }
   ],
   "source": [
    "%%configure -f\n",
    "{ \"name\":\"Spark-to-Cosmos_DB_Connector\",  \n",
    "  \"conf\": {\n",
    "    \"spark.jars.packages\": \"com.microsoft.azure:azure-cosmosdb-spark_2.4.0_2.11:1.4.0\",\n",
    "    \"spark.jars.excludes\": \"org.scala-lang:scala-reflect\"\n",
    "   }\n",
    "}"
   ]
  },
  {
   "cell_type": "code",
   "execution_count": 2,
   "metadata": {
    "cell_status": {
     "execute_time": {
      "duration": 9318.398193359375,
      "end_time": 1574036753095.937
     }
    }
   },
   "outputs": [
    {
     "name": "stdout",
     "output_type": "stream",
     "text": [
      "Starting Spark application\n"
     ]
    },
    {
     "data": {
      "text/html": [
       "<table>\n",
       "<tr><th>ID</th><th>YARN Application ID</th><th>Kind</th><th>State</th><th>Spark UI</th><th>Driver log</th><th>Current session?</th></tr><tr><td>1</td><td>application_1574025542235_0005</td><td>pyspark3</td><td>idle</td><td><a target=\"_blank\" href=\"http://hn1-league.fptc0umx0biezdwlpvattea2ma.ex.internal.cloudapp.net:8088/proxy/application_1574025542235_0005/\">Link</a></td><td><a target=\"_blank\" href=\"http://wn1-league.fptc0umx0biezdwlpvattea2ma.ex.internal.cloudapp.net:30060/node/containerlogs/container_1574025542235_0005_01_000001/livy\">Link</a></td><td>✔</td></tr></table>"
      ],
      "text/plain": [
       "<IPython.core.display.HTML object>"
      ]
     },
     "metadata": {},
     "output_type": "display_data"
    },
    {
     "name": "stdout",
     "output_type": "stream",
     "text": [
      "SparkSession available as 'spark'.\n",
      "/usr/bin/anaconda/envs/py35/lib/python3.5/site-packages/matplotlib/font_manager.py:273: UserWarning: Matplotlib is building the font cache using fc-list. This may take a moment.\n",
      "  warnings.warn('Matplotlib is building the font cache using fc-list. This may take a moment.')\n",
      "/usr/bin/anaconda/envs/py35/lib/python3.5/site-packages/matplotlib/font_manager.py:273: UserWarning: Matplotlib is building the font cache using fc-list. This may take a moment.\n",
      "  warnings.warn('Matplotlib is building the font cache using fc-list. This may take a moment.')146"
     ]
    }
   ],
   "source": [
    "# Base Configuration\n",
    "readConfig = {\n",
    "\"Endpoint\" : \"https://lolpredict.documents.azure.com:443/\",\n",
    "\"Masterkey\" : \"UcLcT6bvFUsk677XfibNhJIIqiAstRkaWWrqTJaQOCmVqx0IN0J1ufYdpbsarowutD6nMSKaaLS1NqcD0QDIdQ==\",\n",
    "\"Database\" : \"league_all_data\",\n",
    "\"Collection\" : \"champions\", \n",
    "}\n",
    "champ = spark.read.format(\"com.microsoft.azure.cosmosdb.spark\").options(**readConfig).load()\n",
    "champ.count()"
   ]
  },
  {
   "cell_type": "code",
   "execution_count": 3,
   "metadata": {
    "cell_status": {
     "execute_time": {
      "duration": 9316.68310546875,
      "end_time": 1574036762422.951
     }
    },
    "collapsed": true
   },
   "outputs": [],
   "source": [
    "matchConfig = {\n",
    "\"Endpoint\" : \"https://lolpredict.documents.azure.com:443/\",\n",
    "\"Masterkey\" : \"UcLcT6bvFUsk677XfibNhJIIqiAstRkaWWrqTJaQOCmVqx0IN0J1ufYdpbsarowutD6nMSKaaLS1NqcD0QDIdQ==\",\n",
    "\"Database\" : \"league_all_data\",\n",
    "\"Collection\" : \"matches\", \n",
    "}\n",
    "\n",
    "match = spark.read.format(\"com.microsoft.azure.cosmosdb.spark\").options(**matchConfig).load()"
   ]
  },
  {
   "cell_type": "code",
   "execution_count": 4,
   "metadata": {
    "cell_status": {
     "execute_time": {
      "duration": 15437.408935546875,
      "end_time": 1574026336503.037
     }
    }
   },
   "outputs": [
    {
     "name": "stdout",
     "output_type": "stream",
     "text": [
      "2132"
     ]
    }
   ],
   "source": [
    "match.count()"
   ]
  },
  {
   "cell_type": "code",
   "execution_count": null,
   "metadata": {
    "cell_status": {
     "execute_time": {
      "duration": 3347.036865234375,
      "end_time": 1574026354184.179
     }
    },
    "scrolled": true
   },
   "outputs": [],
   "source": [
    "match.head()"
   ]
  },
  {
   "cell_type": "code",
   "execution_count": null,
   "metadata": {
    "cell_status": {
     "execute_time": {
      "duration": 15350.86083984375,
      "end_time": 1574036808746.153
     }
    },
    "scrolled": true
   },
   "outputs": [],
   "source": [
    "match.createOrReplaceTempView(\"table1\")\n",
    "match2=spark.sql(\"SELECT stats.gameType from table1 where stats.gameMode='CLASSIC'\")\n",
    "match2.collect()"
   ]
  },
  {
   "cell_type": "markdown",
   "metadata": {},
   "source": [
    "### Get Summoner's Rift Matches"
   ]
  },
  {
   "cell_type": "code",
   "execution_count": 12,
   "metadata": {
    "cell_status": {
     "execute_time": {
      "duration": 13366.81298828125,
      "end_time": 1574036822122.691
     }
    }
   },
   "outputs": [
    {
     "name": "stdout",
     "output_type": "stream",
     "text": [
      "1627"
     ]
    }
   ],
   "source": [
    "srmatch=spark.sql(\"SELECT * from table1 where stats.gameMode='CLASSIC' and stats.gameDuration>420\")\n",
    "srmatch.count()\n"
   ]
  },
  {
   "cell_type": "markdown",
   "metadata": {},
   "source": [
    "## Load Player Data From Player Container"
   ]
  },
  {
   "cell_type": "code",
   "execution_count": 85,
   "metadata": {
    "cell_status": {
     "execute_time": {
      "duration": 1264.53515625,
      "end_time": 1574046553469.592
     }
    },
    "collapsed": true
   },
   "outputs": [],
   "source": [
    "playConfig = {\n",
    "\"Endpoint\" : \"https://lolpredict.documents.azure.com:443/\",\n",
    "\"Masterkey\" : \"UcLcT6bvFUsk677XfibNhJIIqiAstRkaWWrqTJaQOCmVqx0IN0J1ufYdpbsarowutD6nMSKaaLS1NqcD0QDIdQ==\",\n",
    "\"Database\" : \"league_all_data\",\n",
    "\"Collection\" : \"players\", \n",
    "}\n",
    "\n",
    "play = spark.read.format(\"com.microsoft.azure.cosmosdb.spark\").options(**playConfig).load()"
   ]
  },
  {
   "cell_type": "code",
   "execution_count": 12,
   "metadata": {
    "cell_status": {
     "execute_time": {
      "duration": 760.900146484375,
      "end_time": 1574027092988.521
     }
    }
   },
   "outputs": [
    {
     "name": "stdout",
     "output_type": "stream",
     "text": [
      "541"
     ]
    }
   ],
   "source": [
    "play.count()"
   ]
  },
  {
   "cell_type": "code",
   "execution_count": null,
   "metadata": {
    "cell_status": {
     "execute_time": {
      "duration": 765.587890625,
      "end_time": 1574027106187.918
     }
    }
   },
   "outputs": [],
   "source": [
    "play.head()"
   ]
  },
  {
   "cell_type": "code",
   "execution_count": null,
   "metadata": {
    "cell_status": {
     "execute_time": {
      "duration": 1112.039794921875,
      "end_time": 1574027316386.316
     }
    },
    "scrolled": true
   },
   "outputs": [],
   "source": [
    "play.createOrReplaceTempView(\"table2\")\n",
    "play2=spark.sql(\"SELECT mastery, id from table2\")\n",
    "play2.collect()"
   ]
  },
  {
   "cell_type": "code",
   "execution_count": null,
   "metadata": {
    "cell_status": {
     "execute_time": {
      "duration": 257.35009765625,
      "end_time": 1574027441048.329
     }
    },
    "scrolled": true
   },
   "outputs": [],
   "source": [
    "play.printSchema()"
   ]
  },
  {
   "cell_type": "code",
   "execution_count": null,
   "metadata": {
    "cell_status": {
     "execute_time": {
      "duration": 254.01611328125,
      "end_time": 1574027742853.066
     }
    }
   },
   "outputs": [],
   "source": [
    "play2.select('mastery')"
   ]
  },
  {
   "cell_type": "markdown",
   "metadata": {},
   "source": [
    "## Try adding new stats normalized by game duration"
   ]
  },
  {
   "cell_type": "code",
   "execution_count": null,
   "metadata": {
    "cell_status": {
     "execute_time": {
      "duration": 41.9609375,
      "end_time": 1574028570267.327
     }
    },
    "collapsed": true
   },
   "outputs": [],
   "source": [
    "match3=match2.withColumn('damageperminute', participants.stats.totalDamageDealtToChampions/stats.gameDuration)"
   ]
  },
  {
   "cell_type": "code",
   "execution_count": null,
   "metadata": {
    "cell_status": {
     "execute_time": {
      "duration": 256.905029296875,
      "end_time": 1574028910291.974
     }
    },
    "scrolled": true
   },
   "outputs": [],
   "source": [
    "srmatch.printSchema()"
   ]
  },
  {
   "cell_type": "code",
   "execution_count": null,
   "metadata": {
    "cell_status": {
     "execute_time": {
      "duration": 251.343994140625,
      "end_time": 1574031312094.954
     }
    }
   },
   "outputs": [],
   "source": [
    "srmatch.withColumn('stats.participants.stats.damageperminute', srmatch.stats.particpants.stats.totalDamageDealtToChampions/srmatch.stats.gameDuration)"
   ]
  },
  {
   "cell_type": "code",
   "execution_count": 43,
   "metadata": {
    "cell_status": {
     "execute_time": {
      "duration": 34.52392578125,
      "end_time": 1574028965999.043
     }
    }
   },
   "outputs": [
    {
     "name": "stdout",
     "output_type": "stream",
     "text": [
      "Column<b'stats[particpants][stats][totalDamageDealtToChampions]'>"
     ]
    }
   ],
   "source": [
    "srmatch.stats.particpants.stats.totalDamageDealtToChampions"
   ]
  },
  {
   "cell_type": "code",
   "execution_count": 54,
   "metadata": {
    "cell_status": {
     "execute_time": {
      "duration": 2271.149169921875,
      "end_time": 1574031386478.13
     }
    },
    "collapsed": true
   },
   "outputs": [],
   "source": [
    "expjoin=srmatch.join(play)"
   ]
  },
  {
   "cell_type": "code",
   "execution_count": 60,
   "metadata": {
    "cell_status": {
     "execute_time": {
      "duration": 246.623046875,
      "end_time": 1574032285284.098
     }
    }
   },
   "outputs": [
    {
     "name": "stderr",
     "output_type": "stream",
     "text": [
      "'list' object is not callable\n",
      "Traceback (most recent call last):\n",
      "TypeError: 'list' object is not callable\n",
      "\n"
     ]
    }
   ],
   "source": [
    "expflat=srmatch.select(srmatch.columns(\"stats.*\"))"
   ]
  },
  {
   "cell_type": "code",
   "execution_count": 69,
   "metadata": {
    "cell_status": {
     "execute_time": {
      "duration": 251.31201171875,
      "end_time": 1574032450130.613
     }
    },
    "collapsed": true
   },
   "outputs": [],
   "source": [
    "flat_cols = [c[0] for c in srmatch.dtypes if c[1][:6] != 'struct']\n",
    "nested_cols = [c[0] for c in srmatch.dtypes if c[1][:6] == 'struct']\n",
    "flat_df = srmatch.select(*flat_cols, *[c + \".*\" for c in nested_cols])"
   ]
  },
  {
   "cell_type": "code",
   "execution_count": null,
   "metadata": {
    "cell_status": {
     "execute_time": {
      "duration": 241.861083984375,
      "end_time": 1574032452953.879
     }
    },
    "scrolled": true
   },
   "outputs": [],
   "source": [
    "flat_df.printSchema()"
   ]
  },
  {
   "cell_type": "code",
   "execution_count": 75,
   "metadata": {
    "cell_status": {
     "execute_time": {
      "duration": 28.336181640625,
      "end_time": 1574033780276.228
     }
    }
   },
   "outputs": [],
   "source": [
    "flat_cols2 = [c[0] for c in flat_df.dtypes if c[1][:20] != 'struct']\n",
    "nested_cols2 = [c[0] for c in flat_df.dtypes if c[1][:20] == 'struct']\n",
    "flat_df2 = srmatch.select(*flat_cols, *[c + \".*\" for c in nested_cols])"
   ]
  },
  {
   "cell_type": "code",
   "execution_count": null,
   "metadata": {
    "cell_status": {
     "execute_time": {
      "duration": 31.13916015625,
      "end_time": 1574033789294.509
     }
    },
    "scrolled": true
   },
   "outputs": [],
   "source": [
    "flat_df2.printSchema()"
   ]
  },
  {
   "cell_type": "code",
   "execution_count": 77,
   "metadata": {
    "cell_status": {
     "execute_time": {
      "duration": 249.699951171875,
      "end_time": 1574033827875.087
     }
    }
   },
   "outputs": [
    {
     "name": "stderr",
     "output_type": "stream",
     "text": [
      "name 'combine' is not defined\n",
      "Traceback (most recent call last):\n",
      "NameError: name 'combine' is not defined\n",
      "\n"
     ]
    }
   ],
   "source": []
  },
  {
   "cell_type": "code",
   "execution_count": 6,
   "metadata": {
    "cell_status": {
     "execute_time": {
      "duration": 238.47119140625,
      "end_time": 1574036772251.116
     }
    },
    "scrolled": true
   },
   "outputs": [
    {
     "name": "stderr",
     "output_type": "stream",
     "text": [
      "name 'srmatch' is not defined\n",
      "Traceback (most recent call last):\n",
      "NameError: name 'srmatch' is not defined\n",
      "\n"
     ]
    }
   ],
   "source": [
    "expdf = srmatch.select(pyspark.sql.functions.col('stats.gameDuration').alias('gameDuration'),\n",
    "                       pyspark.sql.functions.col('stats.participants.stats').alias('participants.stats'))\n",
    "expdf.show()\n"
   ]
  },
  {
   "cell_type": "code",
   "execution_count": 7,
   "metadata": {
    "cell_status": {
     "execute_time": {
      "duration": 251.439208984375,
      "end_time": 1574036772512.912
     }
    },
    "collapsed": true
   },
   "outputs": [],
   "source": [
    "import pyspark.sql.functions"
   ]
  },
  {
   "cell_type": "code",
   "execution_count": null,
   "metadata": {
    "cell_status": {
     "execute_time": {
      "duration": 31.699951171875,
      "end_time": 1574035193194.854
     }
    },
    "scrolled": true
   },
   "outputs": [],
   "source": [
    "expdf.collect()"
   ]
  },
  {
   "cell_type": "code",
   "execution_count": null,
   "metadata": {
    "cell_status": {
     "execute_time": {
      "duration": 32.796875,
      "end_time": 1574035250736.824
     }
    },
    "scrolled": true
   },
   "outputs": [],
   "source": [
    "expdf.printSchema()"
   ]
  },
  {
   "cell_type": "code",
   "execution_count": 13,
   "metadata": {
    "cell_status": {
     "execute_time": {
      "duration": 242.528076171875,
      "end_time": 1574036894130.588
     }
    }
   },
   "outputs": [
    {
     "name": "stdout",
     "output_type": "stream",
     "text": [
      "root\n",
      " |-- gameDuration: integer (nullable = true)\n",
      " |-- participantId: array (nullable = true)\n",
      " |    |-- element: integer (containsNull = false)\n",
      " |-- totalDamageDealtToChampions: array (nullable = true)\n",
      " |    |-- element: integer (containsNull = false)"
     ]
    }
   ],
   "source": [
    "expdf2 = srmatch.select(pyspark.sql.functions.col('stats.gameDuration').alias('gameDuration'), \n",
    "                      pyspark.sql.functions.col('stats.participants.stats.participantId').alias('participantId'), \n",
    "                      pyspark.sql.functions.col('stats.participants.stats.totalDamageDealtToChampions').alias('totalDamageDealtToChampions'))\n",
    "\n",
    "expdf2.printSchema()"
   ]
  },
  {
   "cell_type": "code",
   "execution_count": null,
   "metadata": {
    "cell_status": {
     "execute_time": {
      "duration": 1256.0859375,
      "end_time": 1574036900516.691
     }
    },
    "scrolled": true
   },
   "outputs": [],
   "source": [
    "expdf2.show()"
   ]
  },
  {
   "cell_type": "code",
   "execution_count": 18,
   "metadata": {
    "cell_status": {
     "execute_time": {
      "duration": 242.85888671875,
      "end_time": 1574037030554.082
     }
    }
   },
   "outputs": [],
   "source": [
    "from pyspark.sql.types import IntegerType, ArrayType, DoubleType\n",
    "\n",
    "def normalise(x, time):\n",
    "    return [element / (time/60) for element in x]\n",
    "\n",
    "expdf3=expdf2.withColumn('dpm', pyspark.sql.functions.udf(normalise, ArrayType(DoubleType()))(expdf2['totalDamageDealtToChampions'], \n",
    "                                                                                               expdf2['gameDuration']))"
   ]
  },
  {
   "cell_type": "code",
   "execution_count": 19,
   "metadata": {
    "cell_status": {
     "execute_time": {
      "duration": 29.7060546875,
      "end_time": 1574037032254.286
     }
    }
   },
   "outputs": [
    {
     "name": "stdout",
     "output_type": "stream",
     "text": [
      "root\n",
      " |-- gameDuration: integer (nullable = true)\n",
      " |-- participantId: array (nullable = true)\n",
      " |    |-- element: integer (containsNull = false)\n",
      " |-- totalDamageDealtToChampions: array (nullable = true)\n",
      " |    |-- element: integer (containsNull = false)\n",
      " |-- dpm: array (nullable = true)\n",
      " |    |-- element: double (containsNull = true)"
     ]
    }
   ],
   "source": [
    "expdf3.printSchema()"
   ]
  },
  {
   "cell_type": "code",
   "execution_count": null,
   "metadata": {
    "cell_status": {
     "execute_time": {
      "duration": 15320.615966796875,
      "end_time": 1574037050775.546
     }
    },
    "scrolled": true
   },
   "outputs": [],
   "source": [
    "expdf3.show()"
   ]
  },
  {
   "cell_type": "code",
   "execution_count": null,
   "metadata": {
    "cell_status": {
     "execute_time": {
      "duration": 252.069091796875,
      "end_time": 1574037179480.88
     }
    },
    "scrolled": true
   },
   "outputs": [],
   "source": [
    "srmatch.printSchema()"
   ]
  },
  {
   "cell_type": "code",
   "execution_count": null,
   "metadata": {
    "cell_status": {
     "execute_time": {
      "duration": 2261.533935546875,
      "end_time": 1574040372087.366
     }
    },
    "scrolled": true
   },
   "outputs": [],
   "source": [
    "expdf4 = srmatch.select(pyspark.sql.functions.col('id'),\n",
    "                      pyspark.sql.functions.col('stats.gameDuration').alias('gameDuration'), \n",
    "                      pyspark.sql.functions.col('stats.participants.stats.participantId').alias('participantId'),\n",
    "                      pyspark.sql.functions.col('stats.participantIdentities.player.summonerID').alias('summonerID'),\n",
    "                      pyspark.sql.functions.col('stats.participants.championID').alias('championID'),\n",
    "                      pyspark.sql.functions.col('stats.participants.teamId').alias('teamId'),\n",
    "                      pyspark.sql.functions.col('stats.participants.stats.win').alias('win'),  \n",
    "                      pyspark.sql.functions.col('stats.participants.stats.kills').alias('kills'),\n",
    "                      pyspark.sql.functions.col('stats.participants.stats.assists').alias('assists'),\n",
    "                      pyspark.sql.functions.col('stats.participants.stats.deaths').alias('deaths'),\n",
    "                      pyspark.sql.functions.col('stats.participants.stats.totalDamageDealtToChampions').alias('totalDamageDealtToChampions'),  \n",
    "                      pyspark.sql.functions.col('stats.participants.stats.visionScore').alias('visionScore'),\n",
    "                      pyspark.sql.functions.col('stats.participants.stats.totalTimeCrowdControlDealt').alias('totalTimeCrowdControlDealt')\n",
    "                      )\n",
    "\n",
    "expdf4.printSchema()"
   ]
  },
  {
   "cell_type": "code",
   "execution_count": 36,
   "metadata": {
    "cell_status": {
     "execute_time": {
      "duration": 243.911865234375,
      "end_time": 1574041039060.198
     }
    }
   },
   "outputs": [
    {
     "name": "stdout",
     "output_type": "stream",
     "text": [
      "+----------+------------+--------------------+--------------------+--------------------+--------------------+--------------------+--------------------+--------------------+--------------------+---------------------------+--------------------+--------------------------+\n",
      "|        id|gameDuration|       participantId|          summonerID|          championID|              teamId|                 win|               kills|             assists|              deaths|totalDamageDealtToChampions|         visionScore|totalTimeCrowdControlDealt|\n",
      "+----------+------------+--------------------+--------------------+--------------------+--------------------+--------------------+--------------------+--------------------+--------------------+---------------------------+--------------------+--------------------------+\n",
      "|3207597356|        1353|[1, 2, 3, 4, 5, 6...|[SAim3CJlYb3gTey9...|[245, 13, 114, 25...|[100, 100, 100, 1...|[false, false, fa...|[3, 2, 0, 4, 1, 1...|[3, 3, 0, 3, 4, 5...|[4, 7, 4, 6, 5, 3...|       [8188, 11206, 637...|[15, 0, 10, 21, 2...|      [396, 68, 66, 68,...|\n",
      "+----------+------------+--------------------+--------------------+--------------------+--------------------+--------------------+--------------------+--------------------+--------------------+---------------------------+--------------------+--------------------------+\n",
      "only showing top 1 row"
     ]
    }
   ],
   "source": [
    "expdf4.show(1)"
   ]
  },
  {
   "cell_type": "code",
   "execution_count": null,
   "metadata": {
    "cell_status": {
     "execute_time": {
      "duration": 13316.404052734375,
      "end_time": 1574041105757.869
     }
    },
    "scrolled": true
   },
   "outputs": [],
   "source": [
    "expdf5=expdf4.withColumn('dpm', pyspark.sql.functions.udf(normalise, ArrayType(DoubleType()))(expdf4['totalDamageDealtToChampions'], \n",
    "                                                                                               expdf4['gameDuration']))\n",
    "expdf5.printSchema()\n"
   ]
  },
  {
   "cell_type": "code",
   "execution_count": 39,
   "metadata": {
    "cell_status": {
     "execute_time": {
      "duration": 242.531982421875,
      "end_time": 1574041170188.554
     }
    }
   },
   "outputs": [
    {
     "name": "stdout",
     "output_type": "stream",
     "text": [
      "+----------+------------+--------------------+--------------------+--------------------+--------------------+--------------------+--------------------+--------------------+--------------------+---------------------------+--------------------+--------------------------+--------------------+\n",
      "|        id|gameDuration|       participantId|          summonerID|          championID|              teamId|                 win|               kills|             assists|              deaths|totalDamageDealtToChampions|         visionScore|totalTimeCrowdControlDealt|                 dpm|\n",
      "+----------+------------+--------------------+--------------------+--------------------+--------------------+--------------------+--------------------+--------------------+--------------------+---------------------------+--------------------+--------------------------+--------------------+\n",
      "|3207597356|        1353|[1, 2, 3, 4, 5, 6...|[SAim3CJlYb3gTey9...|[245, 13, 114, 25...|[100, 100, 100, 1...|[false, false, fa...|[3, 2, 0, 4, 1, 1...|[3, 3, 0, 3, 4, 5...|[4, 7, 4, 6, 5, 3...|       [8188, 11206, 637...|[15, 0, 10, 21, 2...|      [396, 68, 66, 68,...|[363.104212860310...|\n",
      "+----------+------------+--------------------+--------------------+--------------------+--------------------+--------------------+--------------------+--------------------+--------------------+---------------------------+--------------------+--------------------------+--------------------+\n",
      "only showing top 1 row"
     ]
    }
   ],
   "source": [
    "expdf5.show(1)"
   ]
  },
  {
   "cell_type": "code",
   "execution_count": null,
   "metadata": {
    "cell_status": {
     "execute_time": {
      "duration": 7292.712890625,
      "end_time": 1574041252445.792
     }
    }
   },
   "outputs": [],
   "source": [
    "expdf5=expdf5.withColumn('vpm', pyspark.sql.functions.udf(normalise, ArrayType(DoubleType()))(expdf4['visionScore'],\n",
    "                                                                                             expdf4['gameDuration']))\n",
    "expdf5=expdf5.withColumn('ccpm', pyspark.sql.functions.udf(normalise, ArrayType(DoubleType()))(expdf4['totalTimeCrowdControlDealt'],\n",
    "                                                                                             expdf4['gameDuration']))\n",
    "expdf5.printSchema()"
   ]
  },
  {
   "cell_type": "code",
   "execution_count": 43,
   "metadata": {
    "cell_status": {
     "execute_time": {
      "duration": 258.10693359375,
      "end_time": 1574042000674.813
     }
    }
   },
   "outputs": [
    {
     "name": "stdout",
     "output_type": "stream",
     "text": [
      "+----------+------------+--------------------+--------------------+--------------------+--------------------+--------------------+--------------------+--------------------+--------------------+---------------------------+--------------------+--------------------------+--------------------+--------------------+--------------------+\n",
      "|        id|gameDuration|       participantId|          summonerID|          championID|              teamId|                 win|               kills|             assists|              deaths|totalDamageDealtToChampions|         visionScore|totalTimeCrowdControlDealt|                 dpm|                 vpm|                ccpm|\n",
      "+----------+------------+--------------------+--------------------+--------------------+--------------------+--------------------+--------------------+--------------------+--------------------+---------------------------+--------------------+--------------------------+--------------------+--------------------+--------------------+\n",
      "|3207597356|        1353|[1, 2, 3, 4, 5, 6...|[SAim3CJlYb3gTey9...|[245, 13, 114, 25...|[100, 100, 100, 1...|[false, false, fa...|[3, 2, 0, 4, 1, 1...|[3, 3, 0, 3, 4, 5...|[4, 7, 4, 6, 5, 3...|       [8188, 11206, 637...|[15, 0, 10, 21, 2...|      [396, 68, 66, 68,...|[363.104212860310...|[0.66518847006651...|[17.5609756097560...|\n",
      "+----------+------------+--------------------+--------------------+--------------------+--------------------+--------------------+--------------------+--------------------+--------------------+---------------------------+--------------------+--------------------------+--------------------+--------------------+--------------------+\n",
      "only showing top 1 row"
     ]
    }
   ],
   "source": [
    "expdf5.show(1)"
   ]
  },
  {
   "cell_type": "code",
   "execution_count": null,
   "metadata": {
    "cell_status": {
     "execute_time": {
      "duration": 42.72900390625,
      "end_time": 1574042552502.482
     }
    },
    "scrolled": true
   },
   "outputs": [],
   "source": [
    "champ.createOrReplaceTempView(\"table3\")\n",
    "champ2=spark.sql(\"SELECT id, name, stats.armorperlevel, stats.attackdamageperlevel, stats.attackspeed, stats.attackrange, stats.spellblockperlevel, stats.hpperlevel FROM table3\")\n",
    "champ2.collect()"
   ]
  },
  {
   "cell_type": "code",
   "execution_count": null,
   "metadata": {
    "cell_status": {
     "execute_time": {
      "duration": 749.114013671875,
      "end_time": 1574042650862.718
     }
    },
    "collapsed": true
   },
   "outputs": [],
   "source": [
    "champ2.select(\"id\",\"name\",\"armorperlevel\",\"hpperlevel\",\"spellblockperlevel\",\"attackdamageperlevel\",\"attackspeed\",\"attackrange\").collect()\n",
    "\n"
   ]
  },
  {
   "cell_type": "code",
   "execution_count": 47,
   "metadata": {
    "cell_status": {
     "execute_time": {
      "duration": 43.06591796875,
      "end_time": 1574042655886.624
     }
    },
    "collapsed": true
   },
   "outputs": [],
   "source": [
    "import numpy as np"
   ]
  },
  {
   "cell_type": "code",
   "execution_count": 48,
   "metadata": {
    "cell_status": {
     "execute_time": {
      "duration": 36.723876953125,
      "end_time": 1574044366212.259
     }
    },
    "collapsed": true
   },
   "outputs": [],
   "source": [
    "champ_array = np.array(champ2.select(\"id\",\"name\",\"armorperlevel\",\"hpperlevel\",\"spellblockperlevel\",\"attackdamageperlevel\",\"attackspeed\",\"attackrange\").collect())"
   ]
  },
  {
   "cell_type": "code",
   "execution_count": 49,
   "metadata": {
    "cell_status": {
     "execute_time": {
      "duration": 40.5419921875,
      "end_time": 1574044366263.42
     }
    }
   },
   "outputs": [
    {
     "name": "stdout",
     "output_type": "stream",
     "text": [
      "array([['266', 'Aatrox', '3.25', ..., '5.0', '0.651', '175'],\n",
      "       ['103', 'Ahri', '3.5', ..., '3.0', '0.668', '550'],\n",
      "       ['84', 'Akali', '3.5', ..., '3.3', '0.625', '125'],\n",
      "       ..., \n",
      "       ['26', 'Zilean', '3.8', ..., '3.0', '0.625', '550'],\n",
      "       ['142', 'Zoe', '3.5', ..., '3.3', '0.625', '550'],\n",
      "       ['143', 'Zyra', '3.0', ..., '3.2', '0.625', '575']], \n",
      "      dtype='<U12')"
     ]
    }
   ],
   "source": [
    "champ_array"
   ]
  },
  {
   "cell_type": "code",
   "execution_count": 50,
   "metadata": {
    "cell_status": {
     "execute_time": {
      "duration": 30.27978515625,
      "end_time": 1574045004311.997
     }
    }
   },
   "outputs": [
    {
     "name": "stderr",
     "output_type": "stream",
     "text": [
      "invalid syntax (<stdin>, line 2)\n",
      "  File \"<stdin>\", line 2\n",
      "    adf=spark.sql(\"SELECT stats.armorperlevel, stats.attackdamageperlevel, stats.attackspeed, stats.attackrange, stats.spellblockperlevel, stats.hpperlevel WHERE id=x FROM table3\") for x in idl\n",
      "                                                                                                                                                                                       ^\n",
      "SyntaxError: invalid syntax\n",
      "\n"
     ]
    }
   ],
   "source": [
    "idl=[1,2,3,4,5]\n",
    "adf=spark.sql(\"SELECT stats.armorperlevel, stats.attackdamageperlevel, stats.attackspeed, stats.attackrange, stats.spellblockperlevel, stats.hpperlevel WHERE id=x FROM table3\") for x in idl"
   ]
  },
  {
   "cell_type": "code",
   "execution_count": 51,
   "metadata": {
    "cell_status": {
     "execute_time": {
      "duration": 30.296142578125,
      "end_time": 1574045023382.541
     }
    }
   },
   "outputs": [
    {
     "name": "stderr",
     "output_type": "stream",
     "text": [
      "name 'adf' is not defined\n",
      "Traceback (most recent call last):\n",
      "NameError: name 'adf' is not defined\n",
      "\n"
     ]
    }
   ],
   "source": [
    "adf.show(1)"
   ]
  },
  {
   "cell_type": "code",
   "execution_count": null,
   "metadata": {
    "collapsed": true
   },
   "outputs": [],
   "source": [
    "def ch_array(idl):\n",
    "    return spark.sql(\"SELECT stats.armorperlevel, stats.attackdamageperlevel, stats.attackspeed, stats.attackrange, stats.spellblockperlevel, stats.hpperlevel WHERE id=x FROM table3\") for x in idl\n",
    "    return [element / (time/60) for element in x]"
   ]
  },
  {
   "cell_type": "code",
   "execution_count": null,
   "metadata": {
    "cell_status": {
     "execute_time": {
      "duration": 31.158935546875,
      "end_time": 1574045051640.858
     }
    },
    "scrolled": true
   },
   "outputs": [],
   "source": [
    "splits=np.vsplit(champ_array, 146)\n",
    "splits"
   ]
  },
  {
   "cell_type": "code",
   "execution_count": null,
   "metadata": {
    "cell_status": {
     "execute_time": {
      "duration": 51.939208984375,
      "end_time": 1574045613507.438
     }
    },
    "scrolled": true
   },
   "outputs": [],
   "source": [
    "for x in splits:\n",
    "        print(x)"
   ]
  },
  {
   "cell_type": "code",
   "execution_count": null,
   "metadata": {
    "collapsed": true
   },
   "outputs": [],
   "source": []
  },
  {
   "cell_type": "code",
   "execution_count": 83,
   "metadata": {
    "cell_status": {
     "execute_time": {
      "duration": 744.5810546875,
      "end_time": 1574046342291.844
     }
    },
    "scrolled": true
   },
   "outputs": [
    {
     "name": "stdout",
     "output_type": "stream",
     "text": [
      "[array(['266', 'Aatrox', '3.25', '90', '1.25', '5.0', '0.651', '175'], \n",
      "      dtype='<U12'), array(['103', 'Ahri', '3.5', '92', '0.5', '3.0', '0.668', '550'], \n",
      "      dtype='<U12'), array(['84', 'Akali', '3.5', '95', '1.25', '3.3', '0.625', '125'], \n",
      "      dtype='<U12'), array(['12', 'Alistar', '3.5', '106', '1.25', '3.62', '0.625', '125'], \n",
      "      dtype='<U12'), array(['32', 'Amumu', '3.8', '84', '1.25', '3.8', '0.736', '125'], \n",
      "      dtype='<U12'), array(['34', 'Anivia', '4.0', '82', '0.5', '3.2', '0.625', '600'], \n",
      "      dtype='<U12'), array(['1', 'Annie', '4.0', '88', '0.5', '2.625', '0.579', '625'], \n",
      "      dtype='<U12'), array(['22', 'Ashe', '3.4', '85', '0.5', '2.96', '0.658', '600'], \n",
      "      dtype='<U12'), array(['136', 'AurelionSol', '3.6', '92', '0.5', '3.2', '0.625', '550'], \n",
      "      dtype='<U12'), array(['268', 'Azir', '3.0', '92', '0.5', '2.8', '0.625', '525'], \n",
      "      dtype='<U12'), array(['432', 'Bard', '4.0', '89', '0.5', '3.0', '0.625', '500'], \n",
      "      dtype='<U12'), array(['53', 'Blitzcrank', '3.5', '95', '1.25', '3.5', '0.625', '125'], \n",
      "      dtype='<U12'), array(['63', 'Brand', '3.5', '88', '0.5', '3.0', '0.625', '550'], \n",
      "      dtype='<U12'), array(['201', 'Braum', '4.0', '87', '1.25', '3.2', '0.644', '125'], \n",
      "      dtype='<U12'), array(['51', 'Caitlyn', '3.5', '91', '0.5', '2.88', '0.625', '650'], \n",
      "      dtype='<U12'), array(['164', 'Camille', '3.8', '85', '1.25', '3.5', '0.644', '125'], \n",
      "      dtype='<U12'), array(['69', 'Cassiopeia', '3.5', '90', '0.5', '3.0', '0.647', '550'], \n",
      "      dtype='<U12'), array(['31', 'Chogath', '3.5', '80', '1.25', '4.2', '0.625', '125'], \n",
      "      dtype='<U12'), array(['42', 'Corki', '3.5', '87', '0.5', '2.5', '0.638', '550'], \n",
      "      dtype='<U12'), array(['122', 'Darius', '4.0', '100', '1.25', '5.0', '0.625', '175'], \n",
      "      dtype='<U12'), array(['131', 'Diana', '3.6', '95', '1.25', '3.0', '0.625', '150'], \n",
      "      dtype='<U12'), array(['119', 'Draven', '3.3', '88', '0.5', '3.61', '0.679', '550'], \n",
      "      dtype='<U12'), array(['36', 'DrMundo', '3.5', '89', '1.25', '3.5', '0.721', '125'], \n",
      "      dtype='<U12'), array(['245', 'Ekko', '3.0', '85', '1.25', '3.0', '0.688', '125'], \n",
      "      dtype='<U12'), array(['60', 'Elise', '3.35', '93', '0.5', '3.0', '0.625', '550'], \n",
      "      dtype='<U12'), array(['28', 'Evelynn', '3.5', '84', '1.25', '3.0', '0.667', '125'], \n",
      "      dtype='<U12'), array(['81', 'Ezreal', '3.5', '86', '0.5', '2.5', '0.625', '550'], \n",
      "      dtype='<U12'), array(['9', 'Fiddlesticks', '3.5', '80', '0.5', '2.625', '0.625', '480'], \n",
      "      dtype='<U12'), array(['114', 'Fiora', '3.5', '85', '1.25', '3.3', '0.69', '150'], \n",
      "      dtype='<U12'), array(['105', 'Fizz', '3.4', '98', '1.25', '3.0', '0.658', '175'], \n",
      "      dtype='<U12'), array(['3', 'Galio', '3.5', '112', '1.25', '3.5', '0.625', '150'], \n",
      "      dtype='<U12'), array(['41', 'Gangplank', '3.0', '82', '1.25', '3.0', '0.658', '125'], \n",
      "      dtype='<U12'), array(['86', 'Garen', '3.0', '84', '1.25', '4.5', '0.625', '175'], \n",
      "      dtype='<U12'), array(['150', 'Gnar', '2.5', '65', '0.5', '3.0', '0.625', '175'], \n",
      "      dtype='<U12'), array(['79', 'Gragas', '3.6', '95', '1.25', '3.5', '0.675', '125'], \n",
      "      dtype='<U12'), array(['104', 'Graves', '3.4', '92', '1.0', '3.0', '0.475', '425'], \n",
      "      dtype='<U12'), array(['120', 'Hecarim', '4.0', '90', '1.25', '3.2', '0.67', '175'], \n",
      "      dtype='<U12'), array(['74', 'Heimerdinger', '3.0', '87', '0.5', '2.7', '0.625', '550'], \n",
      "      dtype='<U12'), array(['420', 'Illaoi', '3.8', '95', '1.25', '5.0', '0.571', '125'], \n",
      "      dtype='<U12'), array(['39', 'Irelia', '3.0', '95', '1.25', '4.0', '0.656', '200'], \n",
      "      dtype='<U12'), array(['427', 'Ivern', '3.5', '95', '1.25', '3.0', '0.644', '475'], \n",
      "      dtype='<U12'), array(['40', 'Janna', '3.8', '70', '0.5', '1.5', '0.625', '550'], \n",
      "      dtype='<U12'), array(['59', 'JarvanIV', '3.6', '90', '1.25', '3.4', '0.658', '175'], \n",
      "      dtype='<U12'), array(['24', 'Jax', '3.0', '85', '1.25', '3.375', '0.638', '125'], \n",
      "      dtype='<U12'), array(['126', 'Jayce', '3.5', '90', '0.5', '4.25', '0.658', '125'], \n",
      "      dtype='<U12'), array(['202', 'Jhin', '3.5', '91', '0.5', '4.7', '0.625', '550'], \n",
      "      dtype='<U12'), array(['222', 'Jinx', '3.5', '84', '0.5', '3.4', '0.625', '525'], \n",
      "      dtype='<U12'), array(['145', 'Kaisa', '3.0', '86', '0.5', '1.7', '0.644', '525'], \n",
      "      dtype='<U12'), array(['429', 'Kalista', '3.5', '89', '0.5', '4.0', '0.694', '525'], \n",
      "      dtype='<U12'), array(['43', 'Karma', '3.8', '95', '0.5', '3.3', '0.625', '525'], \n",
      "      dtype='<U12'), array(['30', 'Karthus', '3.5', '87', '0.5', '3.25', '0.625', '450'], \n",
      "      dtype='<U12'), array(['38', 'Kassadin', '2.8', '90', '0.5', '3.9', '0.64', '150'], \n",
      "      dtype='<U12'), array(['55', 'Katarina', '3.5', '94', '1.25', '3.2', '0.658', '125'], \n",
      "      dtype='<U12'), array(['10', 'Kayle', '3.0', '85', '0.5', '2.5', '0.625', '175'], \n",
      "      dtype='<U12'), array(['141', 'Kayn', '3.3', '85', '1.25', '3.3', '0.669', '175'], \n",
      "      dtype='<U12'), array(['85', 'Kennen', '3.75', '84', '0.5', '3.75', '0.625', '550'], \n",
      "      dtype='<U12'), array(['121', 'Khazix', '3.0', '85', '1.25', '3.1', '0.668', '125'], \n",
      "      dtype='<U12'), array(['203', 'Kindred', '3.5', '85', '0.5', '2.26', '0.625', '500'], \n",
      "      dtype='<U12'), array(['240', 'Kled', '4.0', '70', '1.25', '3.5', '0.625', '125'], \n",
      "      dtype='<U12'), array(['96', 'KogMaw', '3.5', '88', '0.5', '3.11', '0.665', '500'], \n",
      "      dtype='<U12'), array(['7', 'Leblanc', '3.5', '92', '0.5', '3.5', '0.625', '525'], \n",
      "      dtype='<U12'), array(['64', 'LeeSin', '3.7', '85', '1.25', '3.2', '0.651', '125'], \n",
      "      dtype='<U12'), array(['89', 'Leona', '3.6', '87', '1.25', '3.0', '0.625', '125'], \n",
      "      dtype='<U12'), array(['127', 'Lissandra', '3.7', '90', '0.5', '2.7', '0.656', '550'], \n",
      "      dtype='<U12'), array(['236', 'Lucian', '3.0', '86', '0.5', '2.75', '0.638', '500'], \n",
      "      dtype='<U12'), array(['117', 'Lulu', '3.7', '74', '0.5', '2.6', '0.625', '550'], \n",
      "      dtype='<U12'), array(['99', 'Lux', '4.0', '85', '0.5', '3.3', '0.669', '550'], \n",
      "      dtype='<U12'), array(['54', 'Malphite', '3.75', '90', '1.25', '4.0', '0.736', '125'], \n",
      "      dtype='<U12'), array(['90', 'Malzahar', '3.5', '87', '0.5', '3.0', '0.625', '500'], \n",
      "      dtype='<U12'), array(['57', 'Maokai', '4.0', '95', '1.25', '3.3', '0.8', '125'], \n",
      "      dtype='<U12'), array(['11', 'MasterYi', '3.0', '92', '1.25', '3.0', '0.679', '125'], \n",
      "      dtype='<U12'), array(['21', 'MissFortune', '3.0', '91', '0.5', '2.7', '0.656', '550'], \n",
      "      dtype='<U12'), array(['62', 'MonkeyKing', '3.5', '85', '1.25', '4.0', '0.711', '175'], \n",
      "      dtype='<U12'), array(['82', 'Mordekaiser', '3.0', '90', '1.25', '4.0', '0.625', '175'], \n",
      "      dtype='<U12'), array(['25', 'Morgana', '3.8', '90', '0.5', '3.5', '0.625', '450'], \n",
      "      dtype='<U12'), array(['267', 'Nami', '4.0', '74', '0.5', '3.1', '0.644', '550'], \n",
      "      dtype='<U12'), array(['75', 'Nasus', '3.5', '90', '1.25', '3.5', '0.638', '125'], \n",
      "      dtype='<U12'), array(['111', 'Nautilus', '3.75', '86', '1.25', '3.3', '0.706', '175'], \n",
      "      dtype='<U12'), array(['518', 'Neeko', '4.0', '90', '0.5', '2.5', '0.625', '550'], \n",
      "      dtype='<U12'), array(['76', 'Nidalee', '3.5', '85', '0.5', '3.5', '0.638', '525'], \n",
      "      dtype='<U12'), array(['56', 'Nocturne', '3.5', '85', '1.25', '3.1', '0.721', '125'], \n",
      "      dtype='<U12'), array(['20', 'Nunu', '3.0', '82', '1.25', '3.0', '0.625', '125'], \n",
      "      dtype='<U12'), array(['2', 'Olaf', '3.0', '93', '1.25', '3.5', '0.694', '125'], \n",
      "      dtype='<U12'), array(['61', 'Orianna', '3.0', '91', '0.5', '2.6', '0.658', '525'], \n",
      "      dtype='<U12'), array(['516', 'Ornn', '4.0', '95', '1.25', '3.5', '0.625', '175'], \n",
      "      dtype='<U12'), array(['80', 'Pantheon', '3.75', '95', '1.25', '3.3', '0.644', '175'], \n",
      "      dtype='<U12'), array(['78', 'Poppy', '3.5', '90', '1.25', '4.0', '0.625', '125'], \n",
      "      dtype='<U12'), array(['555', 'Pyke', '5.0', '90', '1.5', '2.0', '0.667', '150'], \n",
      "      dtype='<U12'), array(['246', 'Qiyana', '3.5', '90', '1.25', '3.1', '0.625', '150'], \n",
      "      dtype='<U12'), array(['133', 'Quinn', '3.5', '85', '0.5', '2.4', '0.668', '525'], \n",
      "      dtype='<U12'), array(['497', 'Rakan', '3.9', '85', '1.25', '3.5', '0.635', '300'], \n",
      "      dtype='<U12'), array(['33', 'Rammus', '4.3', '86', '1.25', '3.5', '0.625', '125'], \n",
      "      dtype='<U12'), array(['421', 'RekSai', '3.75', '85', '1.25', '3.0', '0.667', '175'], \n",
      "      dtype='<U12'), array(['58', 'Renekton', '4.0', '87', '1.25', '3.75', '0.665', '125'], \n",
      "      dtype='<U12'), array(['107', 'Rengar', '3.0', '90', '1.25', '3.0', '0.667', '125'], \n",
      "      dtype='<U12'), array(['92', 'Riven', '3.2', '86', '1.25', '3.0', '0.625', '125'], \n",
      "      dtype='<U12'), array(['68', 'Rumble', '3.5', '85', '1.25', '3.2', '0.644', '125'], \n",
      "      dtype='<U12'), array(['13', 'Ryze', '3.0', '98', '0.5', '3.0', '0.625', '550'], \n",
      "      dtype='<U12'), array(['113', 'Sejuani', '4.25', '95', '1.25', '4.0', '0.625', '150'], \n",
      "      dtype='<U12'), array(['235', 'Senna', '3.5', '85', '0.5', '0.0', '0.625', '600'], \n",
      "      dtype='<U12'), array(['35', 'Shaco', '3.5', '89', '1.25', '3.0', '0.694', '125'], \n",
      "      dtype='<U12'), array(['98', 'Shen', '3.0', '85', '1.25', '3.0', '0.751', '125'], \n",
      "      dtype='<U12'), array(['102', 'Shyvana', '3.35', '95', '1.25', '3.4', '0.658', '125'], \n",
      "      dtype='<U12'), array(['27', 'Singed', '3.5', '85', '1.25', '3.375', '0.613', '125'], \n",
      "      dtype='<U12'), array(['14', 'Sion', '3.0', '73', '1.25', '4.0', '0.679', '175'], \n",
      "      dtype='<U12'), array(['15', 'Sivir', '3.25', '88', '0.5', '3.0', '0.625', '500'], \n",
      "      dtype='<U12'), array(['72', 'Skarner', '3.8', '90', '1.25', '4.5', '0.625', '125'], \n",
      "      dtype='<U12'), array(['37', 'Sona', '3.3', '77', '0.5', '3.0', '0.644', '550'], \n",
      "      dtype='<U12'), array(['16', 'Soraka', '3.8', '78', '0.5', '3.0', '0.625', '550'], \n",
      "      dtype='<U12'), array(['50', 'Swain', '4.0', '85', '0.5', '2.7', '0.625', '525'], \n",
      "      dtype='<U12'), array(['517', 'Sylas', '3.0', '95', '1.25', '3.0', '0.645', '175'], \n",
      "      dtype='<U12'), array(['134', 'Syndra', '3.4', '90', '0.5', '2.9', '0.625', '550'], \n",
      "      dtype='<U12'), array(['223', 'TahmKench', '3.5', '100', '1.25', '3.2', '0.658', '175'], \n",
      "      dtype='<U12'), array(['163', 'Taliyah', '3.5', '90', '0.5', '3.3', '0.625', '525'], \n",
      "      dtype='<U12'), array(['91', 'Talon', '3.5', '95', '1.25', '3.1', '0.625', '125'], \n",
      "      dtype='<U12'), array(['44', 'Taric', '3.4', '90', '1.25', '3.5', '0.625', '150'], \n",
      "      dtype='<U12'), array(['17', 'Teemo', '3.75', '90', '0.5', '3.0', '0.69', '500'], \n",
      "      dtype='<U12'), array(['412', 'Thresh', '0.0', '93', '0.5', '2.2', '0.625', '450'], \n",
      "      dtype='<U12'), array(['18', 'Tristana', '3.0', '88', '0.5', '3.3', '0.656', '525'], \n",
      "      dtype='<U12'), array(['48', 'Trundle', '2.7', '96', '1.25', '3.0', '0.67', '175'], \n",
      "      dtype='<U12'), array(['23', 'Tryndamere', '3.1', '98', '1.25', '3.7', '0.67', '125'], \n",
      "      dtype='<U12'), array(['4', 'TwistedFate', '3.15', '94', '0.5', '3.3', '0.651', '525'], \n",
      "      dtype='<U12'), array(['29', 'Twitch', '3.0', '84', '0.5', '3.11', '0.679', '550'], \n",
      "      dtype='<U12'), array(['77', 'Udyr', '4.0', '99', '1.25', '5.0', '0.658', '125'], \n",
      "      dtype='<U12'), array(['6', 'Urgot', '4.25', '88', '1.25', '4.0', '0.625', '350'], \n",
      "      dtype='<U12'), array(['110', 'Varus', '3.4', '89', '0.5', '3.11', '0.658', '575'], \n",
      "      dtype='<U12'), array(['67', 'Vayne', '3.4', '89', '0.5', '2.36', '0.658', '550'], \n",
      "      dtype='<U12'), array(['45', 'Veigar', '3.75', '94', '0.5', '2.625', '0.625', '550'], \n",
      "      dtype='<U12'), array(['161', 'Velkoz', '3.5', '88', '0.5', '3.1416', '0.625', '525'], \n",
      "      dtype='<U12'), array(['254', 'Vi', '4.0', '85', '1.25', '3.5', '0.644', '125'], \n",
      "      dtype='<U12'), array(['112', 'Viktor', '4.0', '90', '0.5', '3.0', '0.658', '525'], \n",
      "      dtype='<U12'), array(['8', 'Vladimir', '3.3', '96', '0.5', '3.0', '0.658', '450'], \n",
      "      dtype='<U12'), array(['106', 'Volibear', '3.5', '86', '1.25', '3.3', '0.658', '125'], \n",
      "      dtype='<U12'), array(['19', 'Warwick', '3.2', '85', '1.25', '3.0', '0.638', '125'], \n",
      "      dtype='<U12'), array(['498', 'Xayah', '3.0', '86', '0.5', '2.9', '0.625', '525'], \n",
      "      dtype='<U12'), array(['101', 'Xerath', '3.5', '92', '0.5', '3.0', '0.625', '525'], \n",
      "      dtype='<U12'), array(['5', 'XinZhao', '3.5', '92', '1.25', '3.0', '0.645', '175'], \n",
      "      dtype='<U12'), array(['157', 'Yasuo', '3.4', '87', '1.25', '3.2', '0.697', '175'], \n",
      "      dtype='<U12'), array(['83', 'Yorick', '4.0', '100', '1.25', '5.0', '0.625', '175'], \n",
      "      dtype='<U12'), array(['350', 'Yuumi', '3.0', '70', '0.3', '3.1', '0.625', '500'], \n",
      "      dtype='<U12'), array(['154', 'Zac', '3.5', '95', '1.25', '3.4', '0.736', '175'], \n",
      "      dtype='<U12'), array(['238', 'Zed', '3.5', '85', '1.25', '3.4', '0.651', '125'], \n",
      "      dtype='<U12'), array(['115', 'Ziggs', '3.3', '92', '0.5', '3.1', '0.656', '550'], \n",
      "      dtype='<U12'), array(['26', 'Zilean', '3.8', '82', '0.5', '3.0', '0.625', '550'], \n",
      "      dtype='<U12'), array(['142', 'Zoe', '3.5', '92', '0.5', '3.3', '0.625', '550'], \n",
      "      dtype='<U12'), array(['143', 'Zyra', '3.0', '79', '0.5', '3.2', '0.625', '575'], \n",
      "      dtype='<U12')]"
     ]
    }
   ],
   "source": [
    "arrays=[]\n",
    "for x in splits:\n",
    "    arrays.append(x[0])\n",
    "arrays"
   ]
  },
  {
   "cell_type": "code",
   "execution_count": 84,
   "metadata": {
    "cell_status": {
     "execute_time": {
      "duration": 752.05810546875,
      "end_time": 1574046419008.083
     }
    }
   },
   "outputs": [
    {
     "name": "stdout",
     "output_type": "stream",
     "text": [
      "['103' 'Ahri' '3.5' '92' '0.5' '3.0' '0.668' '550']"
     ]
    }
   ],
   "source": [
    "for x in arrays:\n",
    "    if x[1] == \"Ahri\":\n",
    "        print(x)"
   ]
  },
  {
   "cell_type": "code",
   "execution_count": 87,
   "metadata": {
    "cell_status": {
     "execute_time": {
      "duration": 752.18408203125,
      "end_time": 1574047026926.884
     }
    },
    "scrolled": true
   },
   "outputs": [
    {
     "name": "stdout",
     "output_type": "stream",
     "text": [
      "+--------------------+--------------------+\n",
      "|             mastery|                  id|\n",
      "+--------------------+--------------------+\n",
      "|[31119, 218, 2712...|EuXHkripW2Qav3H2l...|\n",
      "+--------------------+--------------------+\n",
      "only showing top 1 row"
     ]
    }
   ],
   "source": [
    "play.createOrReplaceTempView(\"table2\")\n",
    "play2=spark.sql(\"SELECT mastery, id from table2\")\n",
    "play2.show(1)"
   ]
  },
  {
   "cell_type": "code",
   "execution_count": null,
   "metadata": {
    "cell_status": {
     "execute_time": {
      "duration": 747.766845703125,
      "end_time": 1574050332222.956
     }
    }
   },
   "outputs": [],
   "source": [
    "\n",
    "play2=spark.sql(\"SELECT id, mastery, matches from table2\")\n",
    "play2.show(2)"
   ]
  },
  {
   "cell_type": "code",
   "execution_count": 91,
   "metadata": {
    "cell_status": {
     "execute_time": {
      "duration": 43.669921875,
      "end_time": 1574049907178.681
     }
    }
   },
   "outputs": [
    {
     "name": "stdout",
     "output_type": "stream",
     "text": [
      "Row(id='EuXHkripW2Qav3H2l1uGWapRCMgwQh4fHIVFybcTCuTk8XX_', mastery=Row(1=31119, 10=218, 101=2712, 102=None, 103=5543, 104=None, 105=4496, 106=None, 107=None, 11=None, 110=None, 111=None, 112=None, 113=None, 114=591, 115=544, 117=42593, 119=899, 12=None, 120=None, 121=6108, 122=None, 126=1187, 127=None, 13=25608, 131=None, 133=979, 134=436, 136=98, 14=None, 141=None, 142=4003, 143=None, 145=95146, 15=None, 150=None, 154=None, 157=None, 16=45287, 161=1983, 163=None, 164=4769, 17=90, 18=1124, 19=None, 2=772, 20=1650, 201=79, 202=None, 203=None, 21=1632, 22=None, 222=30852, 223=None, 23=None, 235=None, 236=5619, 238=None, 24=20526, 240=None, 245=94233, 246=12755, 25=4923, 254=None, 26=1398, 266=10991, 267=72403, 268=153, 27=None, 28=None, 29=1212, 3=None, 30=None, 31=None, 32=940, 33=None, 34=None, 35=None, 350=4908, 36=None, 37=999, 38=24112, 39=33503, 4=None, 40=27385, 41=None, 412=778, 42=2163, 420=None, 421=976, 427=None, 429=235, 43=11602, 432=968, 44=541, 45=None, 48=None, 497=2871, 498=808, 5=835, 50=None, 51=5333, 516=None, 517=5223, 518=None, 53=116, 54=1004, 55=None, 555=192, 56=None, 57=None, 58=None, 59=None, 6=None, 60=None, 61=1476, 62=None, 63=9341, 64=3678, 67=3650, 68=None, 69=1937, 7=4605, 72=129, 74=None, 75=None, 76=98, 77=None, 78=126, 79=None, 8=1218, 80=None, 81=113, 82=None, 83=None, 84=5768, 85=1058, 86=728, 89=112, 9=None, 90=None, 91=3693, 92=None, 96=1279, 98=None, 99=1920), matches=['3207690957', '3207597356', '3207612018', '3206625787', '3206567503', '3205900865', '3204655759', '3204671034', '3204607354', '3204573746'])"
     ]
    }
   ],
   "source": [
    "play2.head()"
   ]
  },
  {
   "cell_type": "code",
   "execution_count": 92,
   "metadata": {
    "cell_status": {
     "execute_time": {
      "duration": 750.199951171875,
      "end_time": 1574050340437.928
     }
    },
    "collapsed": true
   },
   "outputs": [],
   "source": [
    "play3 = spark.sql(\"SELECT id, mastery from table2\")"
   ]
  },
  {
   "cell_type": "code",
   "execution_count": null,
   "metadata": {
    "cell_status": {
     "execute_time": {
      "duration": 241.053955078125,
      "end_time": 1574050899985.52
     }
    }
   },
   "outputs": [],
   "source": [
    "pyspark.sql.functions.col('mastery').keys()"
   ]
  },
  {
   "cell_type": "code",
   "execution_count": 96,
   "metadata": {
    "cell_status": {
     "execute_time": {
      "duration": 245.02490234375,
      "end_time": 1574051911135.869
     }
    },
    "scrolled": true
   },
   "outputs": [
    {
     "name": "stdout",
     "output_type": "stream",
     "text": [
      "root\n",
      " |-- id: string (nullable = true)\n",
      " |-- mastery: struct (nullable = true)\n",
      " |    |-- 1: integer (nullable = true)\n",
      " |    |-- 10: integer (nullable = true)\n",
      " |    |-- 101: integer (nullable = true)\n",
      " |    |-- 102: integer (nullable = true)\n",
      " |    |-- 103: integer (nullable = true)\n",
      " |    |-- 104: integer (nullable = true)\n",
      " |    |-- 105: integer (nullable = true)\n",
      " |    |-- 106: integer (nullable = true)\n",
      " |    |-- 107: integer (nullable = true)\n",
      " |    |-- 11: integer (nullable = true)\n",
      " |    |-- 110: integer (nullable = true)\n",
      " |    |-- 111: integer (nullable = true)\n",
      " |    |-- 112: integer (nullable = true)\n",
      " |    |-- 113: integer (nullable = true)\n",
      " |    |-- 114: integer (nullable = true)\n",
      " |    |-- 115: integer (nullable = true)\n",
      " |    |-- 117: integer (nullable = true)\n",
      " |    |-- 119: integer (nullable = true)\n",
      " |    |-- 12: integer (nullable = true)\n",
      " |    |-- 120: integer (nullable = true)\n",
      " |    |-- 121: integer (nullable = true)\n",
      " |    |-- 122: integer (nullable = true)\n",
      " |    |-- 126: integer (nullable = true)\n",
      " |    |-- 127: integer (nullable = true)\n",
      " |    |-- 13: integer (nullable = true)\n",
      " |    |-- 131: integer (nullable = true)\n",
      " |    |-- 133: integer (nullable = true)\n",
      " |    |-- 134: integer (nullable = true)\n",
      " |    |-- 136: integer (nullable = true)\n",
      " |    |-- 14: integer (nullable = true)\n",
      " |    |-- 141: integer (nullable = true)\n",
      " |    |-- 142: integer (nullable = true)\n",
      " |    |-- 143: integer (nullable = true)\n",
      " |    |-- 145: integer (nullable = true)\n",
      " |    |-- 15: integer (nullable = true)\n",
      " |    |-- 150: integer (nullable = true)\n",
      " |    |-- 154: integer (nullable = true)\n",
      " |    |-- 157: integer (nullable = true)\n",
      " |    |-- 16: integer (nullable = true)\n",
      " |    |-- 161: integer (nullable = true)\n",
      " |    |-- 163: integer (nullable = true)\n",
      " |    |-- 164: integer (nullable = true)\n",
      " |    |-- 17: integer (nullable = true)\n",
      " |    |-- 18: integer (nullable = true)\n",
      " |    |-- 19: integer (nullable = true)\n",
      " |    |-- 2: integer (nullable = true)\n",
      " |    |-- 20: integer (nullable = true)\n",
      " |    |-- 201: integer (nullable = true)\n",
      " |    |-- 202: integer (nullable = true)\n",
      " |    |-- 203: integer (nullable = true)\n",
      " |    |-- 21: integer (nullable = true)\n",
      " |    |-- 22: integer (nullable = true)\n",
      " |    |-- 222: integer (nullable = true)\n",
      " |    |-- 223: integer (nullable = true)\n",
      " |    |-- 23: integer (nullable = true)\n",
      " |    |-- 235: integer (nullable = true)\n",
      " |    |-- 236: integer (nullable = true)\n",
      " |    |-- 238: integer (nullable = true)\n",
      " |    |-- 24: integer (nullable = true)\n",
      " |    |-- 240: integer (nullable = true)\n",
      " |    |-- 245: integer (nullable = true)\n",
      " |    |-- 246: integer (nullable = true)\n",
      " |    |-- 25: integer (nullable = true)\n",
      " |    |-- 254: integer (nullable = true)\n",
      " |    |-- 26: integer (nullable = true)\n",
      " |    |-- 266: integer (nullable = true)\n",
      " |    |-- 267: integer (nullable = true)\n",
      " |    |-- 268: integer (nullable = true)\n",
      " |    |-- 27: integer (nullable = true)\n",
      " |    |-- 28: integer (nullable = true)\n",
      " |    |-- 29: integer (nullable = true)\n",
      " |    |-- 3: integer (nullable = true)\n",
      " |    |-- 30: integer (nullable = true)\n",
      " |    |-- 31: integer (nullable = true)\n",
      " |    |-- 32: integer (nullable = true)\n",
      " |    |-- 33: integer (nullable = true)\n",
      " |    |-- 34: integer (nullable = true)\n",
      " |    |-- 35: integer (nullable = true)\n",
      " |    |-- 350: integer (nullable = true)\n",
      " |    |-- 36: integer (nullable = true)\n",
      " |    |-- 37: integer (nullable = true)\n",
      " |    |-- 38: integer (nullable = true)\n",
      " |    |-- 39: integer (nullable = true)\n",
      " |    |-- 4: integer (nullable = true)\n",
      " |    |-- 40: integer (nullable = true)\n",
      " |    |-- 41: integer (nullable = true)\n",
      " |    |-- 412: integer (nullable = true)\n",
      " |    |-- 42: integer (nullable = true)\n",
      " |    |-- 420: integer (nullable = true)\n",
      " |    |-- 421: integer (nullable = true)\n",
      " |    |-- 427: integer (nullable = true)\n",
      " |    |-- 429: integer (nullable = true)\n",
      " |    |-- 43: integer (nullable = true)\n",
      " |    |-- 432: integer (nullable = true)\n",
      " |    |-- 44: integer (nullable = true)\n",
      " |    |-- 45: integer (nullable = true)\n",
      " |    |-- 48: integer (nullable = true)\n",
      " |    |-- 497: integer (nullable = true)\n",
      " |    |-- 498: integer (nullable = true)\n",
      " |    |-- 5: integer (nullable = true)\n",
      " |    |-- 50: integer (nullable = true)\n",
      " |    |-- 51: integer (nullable = true)\n",
      " |    |-- 516: integer (nullable = true)\n",
      " |    |-- 517: integer (nullable = true)\n",
      " |    |-- 518: integer (nullable = true)\n",
      " |    |-- 53: integer (nullable = true)\n",
      " |    |-- 54: integer (nullable = true)\n",
      " |    |-- 55: integer (nullable = true)\n",
      " |    |-- 555: integer (nullable = true)\n",
      " |    |-- 56: integer (nullable = true)\n",
      " |    |-- 57: integer (nullable = true)\n",
      " |    |-- 58: integer (nullable = true)\n",
      " |    |-- 59: integer (nullable = true)\n",
      " |    |-- 6: integer (nullable = true)\n",
      " |    |-- 60: integer (nullable = true)\n",
      " |    |-- 61: integer (nullable = true)\n",
      " |    |-- 62: integer (nullable = true)\n",
      " |    |-- 63: integer (nullable = true)\n",
      " |    |-- 64: integer (nullable = true)\n",
      " |    |-- 67: integer (nullable = true)\n",
      " |    |-- 68: integer (nullable = true)\n",
      " |    |-- 69: integer (nullable = true)\n",
      " |    |-- 7: integer (nullable = true)\n",
      " |    |-- 72: integer (nullable = true)\n",
      " |    |-- 74: integer (nullable = true)\n",
      " |    |-- 75: integer (nullable = true)\n",
      " |    |-- 76: integer (nullable = true)\n",
      " |    |-- 77: integer (nullable = true)\n",
      " |    |-- 78: integer (nullable = true)\n",
      " |    |-- 79: integer (nullable = true)\n",
      " |    |-- 8: integer (nullable = true)\n",
      " |    |-- 80: integer (nullable = true)\n",
      " |    |-- 81: integer (nullable = true)\n",
      " |    |-- 82: integer (nullable = true)\n",
      " |    |-- 83: integer (nullable = true)\n",
      " |    |-- 84: integer (nullable = true)\n",
      " |    |-- 85: integer (nullable = true)\n",
      " |    |-- 86: integer (nullable = true)\n",
      " |    |-- 89: integer (nullable = true)\n",
      " |    |-- 9: integer (nullable = true)\n",
      " |    |-- 90: integer (nullable = true)\n",
      " |    |-- 91: integer (nullable = true)\n",
      " |    |-- 92: integer (nullable = true)\n",
      " |    |-- 96: integer (nullable = true)\n",
      " |    |-- 98: integer (nullable = true)\n",
      " |    |-- 99: integer (nullable = true)"
     ]
    }
   ],
   "source": [
    "play3.printSchema()"
   ]
  },
  {
   "cell_type": "code",
   "execution_count": 99,
   "metadata": {
    "cell_status": {
     "execute_time": {
      "duration": 3284.65380859375,
      "end_time": 1574052185960.75
     }
    }
   },
   "outputs": [
    {
     "name": "stdout",
     "output_type": "stream",
     "text": [
      "+-----+\n",
      "|    1|\n",
      "+-----+\n",
      "|31119|\n",
      "|21147|\n",
      "|39832|\n",
      "| 1355|\n",
      "|11241|\n",
      "+-----+\n",
      "only showing top 5 rows"
     ]
    }
   ],
   "source": [
    "expdic = play3.select(pyspark.sql.functions.col('mastery.1'))\n",
    "\n",
    "expdic.show(5)\n"
   ]
  },
  {
   "cell_type": "code",
   "execution_count": 103,
   "metadata": {
    "cell_status": {
     "execute_time": {
      "duration": 1251.4208984375,
      "end_time": 1574052380534.826
     }
    }
   },
   "outputs": [
    {
     "name": "stdout",
     "output_type": "stream",
     "text": [
      "+--------------------+-----+---+----+----+----+----+----+----+----+----+----+----+----+----+---+---+-----+---+----+----+----+----+----+----+-----+----+---+---+---+----+----+----+----+-----+----+----+----+----+-----+----+----+----+---+----+----+---+----+---+----+----+----+----+-----+----+----+----+----+----+-----+----+-----+-----+----+----+----+-----+-----+---+----+----+----+----+----+----+---+----+----+----+----+----+---+-----+-----+----+-----+----+---+----+----+---+----+---+-----+---+---+----+----+----+---+---+----+----+----+----+----+---+----+----+---+----+----+----+----+----+----+----+----+----+----+----+----+----+----+---+----+----+---+----+---+----+----+----+---+----+----+----+----+---+---+----+----+----+----+----+----+----+\n",
      "|          summonerID|    1| 10| 101| 102| 103| 104| 105| 106| 107|  11| 110| 111| 112| 113|114|115|  117|119|  12| 120| 121| 122| 126| 127|   13| 131|133|134|136|  14| 141| 142| 143|  145|  15| 150| 154| 157|   16| 161| 163| 164| 17|  18|  19|  2|  20|201| 202| 203|  21|  22|  222| 223|  23| 235| 236| 238|   24| 240|  245|  246|  25| 254|  26|  266|  267|268|  27|  28|  29|   3|  30|  31| 32|  33|  34|  35| 350|  36| 37|   38|   39|   4|   40|  41|412|  42| 420|421| 427|429|   43|432| 44|  45|  48| 497|498|  5|  50|  51| 516| 517| 518| 53|  54|  55|555|  56|  57|  58|  59|   6|  60|  61|  62|  63|  64|  67|  68|  69|   7| 72|  74|  75| 76|  77| 78|  79|   8|  80| 81|  82|  83|  84|  85| 86| 89|   9|  90|  91|  92|  96|  98|  99|\n",
      "+--------------------+-----+---+----+----+----+----+----+----+----+----+----+----+----+----+---+---+-----+---+----+----+----+----+----+----+-----+----+---+---+---+----+----+----+----+-----+----+----+----+----+-----+----+----+----+---+----+----+---+----+---+----+----+----+----+-----+----+----+----+----+----+-----+----+-----+-----+----+----+----+-----+-----+---+----+----+----+----+----+----+---+----+----+----+----+----+---+-----+-----+----+-----+----+---+----+----+---+----+---+-----+---+---+----+----+----+---+---+----+----+----+----+----+---+----+----+---+----+----+----+----+----+----+----+----+----+----+----+----+----+----+---+----+----+---+----+---+----+----+----+---+----+----+----+----+---+---+----+----+----+----+----+----+----+\n",
      "|EuXHkripW2Qav3H2l...|31119|218|2712|null|5543|null|4496|null|null|null|null|null|null|null|591|544|42593|899|null|null|6108|null|1187|null|25608|null|979|436| 98|null|null|4003|null|95146|null|null|null|null|45287|1983|null|4769| 90|1124|null|772|1650| 79|null|null|1632|null|30852|null|null|null|5619|null|20526|null|94233|12755|4923|null|1398|10991|72403|153|null|null|1212|null|null|null|940|null|null|null|4908|null|999|24112|33503|null|27385|null|778|2163|null|976|null|235|11602|968|541|null|null|2871|808|835|null|5333|null|5223|null|116|1004|null|192|null|null|null|null|null|null|1476|null|9341|3678|3650|null|1937|4605|129|null|null| 98|null|126|null|1218|null|113|null|null|5768|1058|728|112|null|null|3693|null|1279|null|1920|\n",
      "+--------------------+-----+---+----+----+----+----+----+----+----+----+----+----+----+----+---+---+-----+---+----+----+----+----+----+----+-----+----+---+---+---+----+----+----+----+-----+----+----+----+----+-----+----+----+----+---+----+----+---+----+---+----+----+----+----+-----+----+----+----+----+----+-----+----+-----+-----+----+----+----+-----+-----+---+----+----+----+----+----+----+---+----+----+----+----+----+---+-----+-----+----+-----+----+---+----+----+---+----+---+-----+---+---+----+----+----+---+---+----+----+----+----+----+---+----+----+---+----+----+----+----+----+----+----+----+----+----+----+----+----+----+---+----+----+---+----+---+----+----+----+---+----+----+----+----+---+---+----+----+----+----+----+----+----+\n",
      "only showing top 1 row"
     ]
    }
   ],
   "source": [
    "expdic2=play3.select(pyspark.sql.functions.col('id').alias('summonerID'),\n",
    "                     pyspark.sql.functions.col('mastery.*'))\n",
    "expdic2.show(1)"
   ]
  },
  {
   "cell_type": "code",
   "execution_count": 105,
   "metadata": {
    "cell_status": {
     "execute_time": {
      "duration": 1252.701904296875,
      "end_time": 1574052391003.929
     }
    }
   },
   "outputs": [
    {
     "name": "stderr",
     "output_type": "stream",
     "text": [
      "\"cannot resolve 'explode(table2.`mastery`)' due to data type mismatch: input to function explode should be array or map type, not struct<1:int,10:int,101:int,102:int,103:int,104:int,105:int,106:int,107:int,11:int,110:int,111:int,112:int,113:int,114:int,115:int,117:int,119:int,12:int,120:int,121:int,122:int,126:int,127:int,13:int,131:int,133:int,134:int,136:int,14:int,141:int,142:int,143:int,145:int,15:int,150:int,154:int,157:int,16:int,161:int,163:int,164:int,17:int,18:int,19:int,2:int,20:int,201:int,202:int,203:int,21:int,22:int,222:int,223:int,23:int,235:int,236:int,238:int,24:int,240:int,245:int,246:int,25:int,254:int,26:int,266:int,267:int,268:int,27:int,28:int,29:int,3:int,30:int,31:int,32:int,33:int,34:int,35:int,350:int,36:int,37:int,38:int,39:int,4:int,40:int,41:int,412:int,42:int,420:int,421:int,427:int,429:int,43:int,432:int,44:int,45:int,48:int,497:int,498:int,5:int,50:int,51:int,516:int,517:int,518:int,53:int,54:int,55:int,555:int,56:int,57:int,58:int,59:int,6:int,60:int,61:int,62:int,63:int,64:int,67:int,68:int,69:int,7:int,72:int,74:int,75:int,76:int,77:int,78:int,79:int,8:int,80:int,81:int,82:int,83:int,84:int,85:int,86:int,89:int,9:int,90:int,91:int,92:int,96:int,98:int,99:int>;;\\n'Project [id#789, mastery#790, explode(mastery#790) AS explo#3106]\\n+- Project [id#789, mastery#790]\\n   +- SubqueryAlias `table2`\\n      +- Relation[_attachments#784,_etag#785,_rid#786,_self#787,_ts#788,id#789,mastery#790,matches#791] com.microsoft.azure.cosmosdb.spark.schema.CosmosDBRelation@71e29aaf\\n\"\n",
      "Traceback (most recent call last):\n",
      "  File \"/usr/hdp/current/spark2-client/python/pyspark/sql/dataframe.py\", line 1989, in withColumn\n",
      "    return DataFrame(self._jdf.withColumn(colName, col._jc), self.sql_ctx)\n",
      "  File \"/usr/hdp/current/spark2-client/python/lib/py4j-0.10.7-src.zip/py4j/java_gateway.py\", line 1257, in __call__\n",
      "    answer, self.gateway_client, self.target_id, self.name)\n",
      "  File \"/usr/hdp/current/spark2-client/python/pyspark/sql/utils.py\", line 69, in deco\n",
      "    raise AnalysisException(s.split(': ', 1)[1], stackTrace)\n",
      "pyspark.sql.utils.AnalysisException: \"cannot resolve 'explode(table2.`mastery`)' due to data type mismatch: input to function explode should be array or map type, not struct<1:int,10:int,101:int,102:int,103:int,104:int,105:int,106:int,107:int,11:int,110:int,111:int,112:int,113:int,114:int,115:int,117:int,119:int,12:int,120:int,121:int,122:int,126:int,127:int,13:int,131:int,133:int,134:int,136:int,14:int,141:int,142:int,143:int,145:int,15:int,150:int,154:int,157:int,16:int,161:int,163:int,164:int,17:int,18:int,19:int,2:int,20:int,201:int,202:int,203:int,21:int,22:int,222:int,223:int,23:int,235:int,236:int,238:int,24:int,240:int,245:int,246:int,25:int,254:int,26:int,266:int,267:int,268:int,27:int,28:int,29:int,3:int,30:int,31:int,32:int,33:int,34:int,35:int,350:int,36:int,37:int,38:int,39:int,4:int,40:int,41:int,412:int,42:int,420:int,421:int,427:int,429:int,43:int,432:int,44:int,45:int,48:int,497:int,498:int,5:int,50:int,51:int,516:int,517:int,518:int,53:int,54:int,55:int,555:int,56:int,57:int,58:int,59:int,6:int,60:int,61:int,62:int,63:int,64:int,67:int,68:int,69:int,7:int,72:int,74:int,75:int,76:int,77:int,78:int,79:int,8:int,80:int,81:int,82:int,83:int,84:int,85:int,86:int,89:int,9:int,90:int,91:int,92:int,96:int,98:int,99:int>;;\\n'Project [id#789, mastery#790, explode(mastery#790) AS explo#3106]\\n+- Project [id#789, mastery#790]\\n   +- SubqueryAlias `table2`\\n      +- Relation[_attachments#784,_etag#785,_rid#786,_self#787,_ts#788,id#789,mastery#790,matches#791] com.microsoft.azure.cosmosdb.spark.schema.CosmosDBRelation@71e29aaf\\n\"\n",
      "\n"
     ]
    }
   ],
   "source": [
    "play3.withColumn('explo',pyspark.sql.functions.explode(play3.mastery)).show(1)"
   ]
  },
  {
   "cell_type": "code",
   "execution_count": 111,
   "metadata": {},
   "outputs": [
    {
     "name": "stdout",
     "output_type": "stream",
     "text": [
      "+--------------------+----------+------+\n",
      "|          summonerID|championId|points|\n",
      "+--------------------+----------+------+\n",
      "|EuXHkripW2Qav3H2l...|         1| 31119|\n",
      "|EuXHkripW2Qav3H2l...|        10|   218|\n",
      "|EuXHkripW2Qav3H2l...|       101|  2712|\n",
      "|EuXHkripW2Qav3H2l...|       102|  null|\n",
      "|EuXHkripW2Qav3H2l...|       103|  5543|\n",
      "+--------------------+----------+------+\n",
      "only showing top 5 rows"
     ]
    }
   ],
   "source": [
    "from pyspark.sql.functions import array, col, explode, struct, lit\n",
    "def to_long(df, by):\n",
    "\n",
    "    # Filter dtypes and split into column names and type description\n",
    "    cols, dtypes = zip(*((c, t) for (c, t) in df.dtypes if c not in by))\n",
    "    # Spark SQL supports only homogeneous columns\n",
    "    assert len(set(dtypes)) == 1, \"All columns have to be of the same type\"\n",
    "\n",
    "    # Create and explode an array of (column_name, column_value) structs\n",
    "    kvs = explode(array([\n",
    "      struct(lit(c).alias(\"championId\"), col(c).alias(\"points\")) for c in cols\n",
    "    ])).alias(\"kvs\")\n",
    "\n",
    "    return df.select(by + [kvs]).select(by + [\"kvs.championId\", \"kvs.points\"])\n",
    "\n",
    "champ_mastery=to_long(expdic2, [\"summonerID\"])\n",
    "champ_mastery.show(5)\n"
   ]
  },
  {
   "cell_type": "code",
   "execution_count": 112,
   "metadata": {},
   "outputs": [
    {
     "name": "stdout",
     "output_type": "stream",
     "text": [
      "+---+------+-------------+--------------------+-----------+-----------+------------------+----------+\n",
      "| id|  name|armorperlevel|attackdamageperlevel|attackspeed|attackrange|spellblockperlevel|hpperlevel|\n",
      "+---+------+-------------+--------------------+-----------+-----------+------------------+----------+\n",
      "|266|Aatrox|         3.25|                 5.0|      0.651|        175|              1.25|        90|\n",
      "+---+------+-------------+--------------------+-----------+-----------+------------------+----------+\n",
      "only showing top 1 row"
     ]
    }
   ],
   "source": [
    "champ2.show(1)"
   ]
  },
  {
   "cell_type": "code",
   "execution_count": 115,
   "metadata": {},
   "outputs": [
    {
     "name": "stdout",
     "output_type": "stream",
     "text": [
      "+--------------------+----------+------+---+-------+-------------+--------------------+-----------+-----------+------------------+----------+\n",
      "|          summonerID|championId|points| id|   name|armorperlevel|attackdamageperlevel|attackspeed|attackrange|spellblockperlevel|hpperlevel|\n",
      "+--------------------+----------+------+---+-------+-------------+--------------------+-----------+-----------+------------------+----------+\n",
      "|EuXHkripW2Qav3H2l...|        51|  5333| 51|Caitlyn|          3.5|                2.88|      0.625|        650|               0.5|        91|\n",
      "|RBQZJQA6Acz3VqBqd...|        51| 30573| 51|Caitlyn|          3.5|                2.88|      0.625|        650|               0.5|        91|\n",
      "+--------------------+----------+------+---+-------+-------------+--------------------+-----------+-----------+------------------+----------+\n",
      "only showing top 2 rows"
     ]
    }
   ],
   "source": [
    "inner_join = champ_mastery.join(champ2, champ_mastery.championId == champ2.id)\n",
    "inner_join.show(2)"
   ]
  },
  {
   "cell_type": "code",
   "execution_count": null,
   "metadata": {
    "collapsed": true
   },
   "outputs": [],
   "source": []
  }
 ],
 "metadata": {
  "kernelspec": {
   "display_name": "PySpark3",
   "language": "",
   "name": "pyspark3kernel"
  },
  "language_info": {
   "codemirror_mode": {
    "name": "python",
    "version": 3
   },
   "mimetype": "text/x-python",
   "name": "pyspark3",
   "pygments_lexer": "python3"
  }
 },
 "nbformat": 4,
 "nbformat_minor": 2
}
